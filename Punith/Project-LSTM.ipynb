{
 "cells": [
  {
   "cell_type": "markdown",
   "id": "124d215f",
   "metadata": {},
   "source": [
    "# Forecast Exchange Rates"
   ]
  },
  {
   "cell_type": "markdown",
   "id": "c7154d45",
   "metadata": {},
   "source": [
    "## Importing Library"
   ]
  },
  {
   "cell_type": "code",
   "execution_count": 1,
   "id": "74d2199c",
   "metadata": {},
   "outputs": [],
   "source": [
    "#VIZ AND DATA MANIPULATION LIBRARY\n",
    "import pandas as pd\n",
    "import numpy as np\n",
    "import seaborn as sns\n",
    "import matplotlib.pyplot as plt\n",
    "\n",
    "#plotly\n",
    "from plotly import tools\n",
    "import plotly_express as px\n",
    "import plotly.graph_objects as go\n",
    "from plotly.subplots import make_subplots\n",
    "\n",
    "#datetime\n",
    "import datetime as dt\n",
    "\n",
    "#warnings\n",
    "import warnings \n",
    "warnings.filterwarnings('ignore')"
   ]
  },
  {
   "cell_type": "markdown",
   "id": "5d26cd8e",
   "metadata": {},
   "source": [
    "## Loading Data"
   ]
  },
  {
   "cell_type": "code",
   "execution_count": 2,
   "id": "e6c85619",
   "metadata": {},
   "outputs": [
    {
     "data": {
      "text/html": [
       "<div>\n",
       "<style scoped>\n",
       "    .dataframe tbody tr th:only-of-type {\n",
       "        vertical-align: middle;\n",
       "    }\n",
       "\n",
       "    .dataframe tbody tr th {\n",
       "        vertical-align: top;\n",
       "    }\n",
       "\n",
       "    .dataframe thead th {\n",
       "        text-align: right;\n",
       "    }\n",
       "</style>\n",
       "<table border=\"1\" class=\"dataframe\">\n",
       "  <thead>\n",
       "    <tr style=\"text-align: right;\">\n",
       "      <th></th>\n",
       "      <th>observation_date</th>\n",
       "      <th>DEXINUS</th>\n",
       "    </tr>\n",
       "  </thead>\n",
       "  <tbody>\n",
       "    <tr>\n",
       "      <th>0</th>\n",
       "      <td>1973-01-02</td>\n",
       "      <td>8.02</td>\n",
       "    </tr>\n",
       "    <tr>\n",
       "      <th>1</th>\n",
       "      <td>1973-01-03</td>\n",
       "      <td>8.02</td>\n",
       "    </tr>\n",
       "    <tr>\n",
       "      <th>2</th>\n",
       "      <td>1973-01-04</td>\n",
       "      <td>8.00</td>\n",
       "    </tr>\n",
       "    <tr>\n",
       "      <th>3</th>\n",
       "      <td>1973-01-05</td>\n",
       "      <td>8.01</td>\n",
       "    </tr>\n",
       "    <tr>\n",
       "      <th>4</th>\n",
       "      <td>1973-01-08</td>\n",
       "      <td>8.00</td>\n",
       "    </tr>\n",
       "  </tbody>\n",
       "</table>\n",
       "</div>"
      ],
      "text/plain": [
       "  observation_date  DEXINUS\n",
       "0       1973-01-02     8.02\n",
       "1       1973-01-03     8.02\n",
       "2       1973-01-04     8.00\n",
       "3       1973-01-05     8.01\n",
       "4       1973-01-08     8.00"
      ]
     },
     "execution_count": 2,
     "metadata": {},
     "output_type": "execute_result"
    }
   ],
   "source": [
    "inrusd = pd.read_csv('Dataset.csv',parse_dates=[\"observation_date\"])\n",
    "inrusd.head()"
   ]
  },
  {
   "cell_type": "markdown",
   "id": "af440e46",
   "metadata": {},
   "source": [
    "### Copy Data"
   ]
  },
  {
   "cell_type": "code",
   "execution_count": 3,
   "id": "c44cf661",
   "metadata": {},
   "outputs": [
    {
     "data": {
      "text/html": [
       "<div>\n",
       "<style scoped>\n",
       "    .dataframe tbody tr th:only-of-type {\n",
       "        vertical-align: middle;\n",
       "    }\n",
       "\n",
       "    .dataframe tbody tr th {\n",
       "        vertical-align: top;\n",
       "    }\n",
       "\n",
       "    .dataframe thead th {\n",
       "        text-align: right;\n",
       "    }\n",
       "</style>\n",
       "<table border=\"1\" class=\"dataframe\">\n",
       "  <thead>\n",
       "    <tr style=\"text-align: right;\">\n",
       "      <th></th>\n",
       "      <th>observation_date</th>\n",
       "      <th>DEXINUS</th>\n",
       "    </tr>\n",
       "  </thead>\n",
       "  <tbody>\n",
       "    <tr>\n",
       "      <th>0</th>\n",
       "      <td>1973-01-02</td>\n",
       "      <td>8.02</td>\n",
       "    </tr>\n",
       "    <tr>\n",
       "      <th>1</th>\n",
       "      <td>1973-01-03</td>\n",
       "      <td>8.02</td>\n",
       "    </tr>\n",
       "    <tr>\n",
       "      <th>2</th>\n",
       "      <td>1973-01-04</td>\n",
       "      <td>8.00</td>\n",
       "    </tr>\n",
       "    <tr>\n",
       "      <th>3</th>\n",
       "      <td>1973-01-05</td>\n",
       "      <td>8.01</td>\n",
       "    </tr>\n",
       "    <tr>\n",
       "      <th>4</th>\n",
       "      <td>1973-01-08</td>\n",
       "      <td>8.00</td>\n",
       "    </tr>\n",
       "  </tbody>\n",
       "</table>\n",
       "</div>"
      ],
      "text/plain": [
       "  observation_date  DEXINUS\n",
       "0       1973-01-02     8.02\n",
       "1       1973-01-03     8.02\n",
       "2       1973-01-04     8.00\n",
       "3       1973-01-05     8.01\n",
       "4       1973-01-08     8.00"
      ]
     },
     "execution_count": 3,
     "metadata": {},
     "output_type": "execute_result"
    }
   ],
   "source": [
    "#Copy Data\n",
    "df = inrusd.copy()\n",
    "df.head()"
   ]
  },
  {
   "cell_type": "markdown",
   "id": "22c0a3b0",
   "metadata": {},
   "source": [
    "#### Shape"
   ]
  },
  {
   "cell_type": "code",
   "execution_count": 4,
   "id": "5c3b96bb",
   "metadata": {},
   "outputs": [
    {
     "data": {
      "text/plain": [
       "(12649, 2)"
      ]
     },
     "execution_count": 4,
     "metadata": {},
     "output_type": "execute_result"
    }
   ],
   "source": [
    "df.shape"
   ]
  },
  {
   "cell_type": "markdown",
   "id": "3144f897",
   "metadata": {},
   "source": [
    "#### Renaming "
   ]
  },
  {
   "cell_type": "code",
   "execution_count": 5,
   "id": "d6b9a1ae",
   "metadata": {},
   "outputs": [],
   "source": [
    "#renaming the date and rate\n",
    "data = df[['observation_date', 'DEXINUS']]\n",
    "data.columns = ['date', 'rate']"
   ]
  },
  {
   "cell_type": "code",
   "execution_count": 6,
   "id": "7eb777c0",
   "metadata": {},
   "outputs": [
    {
     "data": {
      "text/html": [
       "<div>\n",
       "<style scoped>\n",
       "    .dataframe tbody tr th:only-of-type {\n",
       "        vertical-align: middle;\n",
       "    }\n",
       "\n",
       "    .dataframe tbody tr th {\n",
       "        vertical-align: top;\n",
       "    }\n",
       "\n",
       "    .dataframe thead th {\n",
       "        text-align: right;\n",
       "    }\n",
       "</style>\n",
       "<table border=\"1\" class=\"dataframe\">\n",
       "  <thead>\n",
       "    <tr style=\"text-align: right;\">\n",
       "      <th></th>\n",
       "      <th>date</th>\n",
       "      <th>rate</th>\n",
       "    </tr>\n",
       "  </thead>\n",
       "  <tbody>\n",
       "    <tr>\n",
       "      <th>0</th>\n",
       "      <td>1973-01-02</td>\n",
       "      <td>8.02</td>\n",
       "    </tr>\n",
       "    <tr>\n",
       "      <th>1</th>\n",
       "      <td>1973-01-03</td>\n",
       "      <td>8.02</td>\n",
       "    </tr>\n",
       "    <tr>\n",
       "      <th>2</th>\n",
       "      <td>1973-01-04</td>\n",
       "      <td>8.00</td>\n",
       "    </tr>\n",
       "    <tr>\n",
       "      <th>3</th>\n",
       "      <td>1973-01-05</td>\n",
       "      <td>8.01</td>\n",
       "    </tr>\n",
       "    <tr>\n",
       "      <th>4</th>\n",
       "      <td>1973-01-08</td>\n",
       "      <td>8.00</td>\n",
       "    </tr>\n",
       "  </tbody>\n",
       "</table>\n",
       "</div>"
      ],
      "text/plain": [
       "        date  rate\n",
       "0 1973-01-02  8.02\n",
       "1 1973-01-03  8.02\n",
       "2 1973-01-04  8.00\n",
       "3 1973-01-05  8.01\n",
       "4 1973-01-08  8.00"
      ]
     },
     "execution_count": 6,
     "metadata": {},
     "output_type": "execute_result"
    }
   ],
   "source": [
    "data.head()"
   ]
  },
  {
   "cell_type": "markdown",
   "id": "985e8262",
   "metadata": {},
   "source": [
    "#### info"
   ]
  },
  {
   "cell_type": "code",
   "execution_count": 7,
   "id": "af512782",
   "metadata": {},
   "outputs": [
    {
     "name": "stdout",
     "output_type": "stream",
     "text": [
      "<class 'pandas.core.frame.DataFrame'>\n",
      "RangeIndex: 12649 entries, 0 to 12648\n",
      "Data columns (total 2 columns):\n",
      " #   Column  Non-Null Count  Dtype         \n",
      "---  ------  --------------  -----         \n",
      " 0   date    12649 non-null  datetime64[ns]\n",
      " 1   rate    12155 non-null  float64       \n",
      "dtypes: datetime64[ns](1), float64(1)\n",
      "memory usage: 197.8 KB\n"
     ]
    }
   ],
   "source": [
    "data.info()"
   ]
  },
  {
   "cell_type": "markdown",
   "id": "46a4494c",
   "metadata": {},
   "source": [
    "Converting rates to numeric"
   ]
  },
  {
   "cell_type": "code",
   "execution_count": 8,
   "id": "5ff0f85f",
   "metadata": {},
   "outputs": [],
   "source": [
    "data['rate'] = pd.to_numeric(data.rate)"
   ]
  },
  {
   "cell_type": "markdown",
   "id": "e3c64864",
   "metadata": {},
   "source": [
    "Sorting Date in Ascending order"
   ]
  },
  {
   "cell_type": "code",
   "execution_count": 9,
   "id": "07c57e08",
   "metadata": {},
   "outputs": [],
   "source": [
    "data = data.sort_values('date', ascending=True)"
   ]
  },
  {
   "cell_type": "markdown",
   "id": "c64b4c42",
   "metadata": {},
   "source": [
    "#### Descriptive Stats"
   ]
  },
  {
   "cell_type": "code",
   "execution_count": 10,
   "id": "55c55a50",
   "metadata": {},
   "outputs": [
    {
     "data": {
      "text/plain": [
       "count    12155.000000\n",
       "mean        34.206133\n",
       "std         21.089190\n",
       "min          7.190000\n",
       "25%         12.075000\n",
       "50%         35.890000\n",
       "75%         47.650000\n",
       "max         76.950000\n",
       "Name: rate, dtype: float64"
      ]
     },
     "execution_count": 10,
     "metadata": {},
     "output_type": "execute_result"
    }
   ],
   "source": [
    "data.rate.describe()"
   ]
  },
  {
   "cell_type": "markdown",
   "id": "6e8a65c4",
   "metadata": {},
   "source": [
    "#### Checking Null Values"
   ]
  },
  {
   "cell_type": "code",
   "execution_count": 11,
   "id": "cb708c8c",
   "metadata": {},
   "outputs": [
    {
     "data": {
      "text/plain": [
       "date      0\n",
       "rate    494\n",
       "dtype: int64"
      ]
     },
     "execution_count": 11,
     "metadata": {},
     "output_type": "execute_result"
    }
   ],
   "source": [
    "data.isnull().sum()"
   ]
  },
  {
   "cell_type": "markdown",
   "id": "2051d260",
   "metadata": {},
   "source": [
    "Forward Filling Null Values"
   ]
  },
  {
   "cell_type": "code",
   "execution_count": 12,
   "id": "556b5ddc",
   "metadata": {},
   "outputs": [],
   "source": [
    "#Forward Filling\n",
    "data.fillna(method='ffill', inplace=True)"
   ]
  },
  {
   "cell_type": "code",
   "execution_count": 13,
   "id": "bfa7ffb2",
   "metadata": {},
   "outputs": [
    {
     "data": {
      "text/plain": [
       "date    0\n",
       "rate    0\n",
       "dtype: int64"
      ]
     },
     "execution_count": 13,
     "metadata": {},
     "output_type": "execute_result"
    }
   ],
   "source": [
    "data.isnull().sum()"
   ]
  },
  {
   "cell_type": "markdown",
   "id": "f09867e7",
   "metadata": {},
   "source": [
    "Convert datatype int to float"
   ]
  },
  {
   "cell_type": "code",
   "execution_count": 14,
   "id": "f59c4a2e",
   "metadata": {},
   "outputs": [],
   "source": [
    "#transformation of values to float\n",
    "data['rate'] = pd.to_numeric(data['rate'], downcast=\"float\")"
   ]
  },
  {
   "cell_type": "markdown",
   "id": "3d9a1db7",
   "metadata": {},
   "source": [
    "#### info"
   ]
  },
  {
   "cell_type": "code",
   "execution_count": 15,
   "id": "3fe6312b",
   "metadata": {},
   "outputs": [
    {
     "name": "stdout",
     "output_type": "stream",
     "text": [
      "<class 'pandas.core.frame.DataFrame'>\n",
      "Int64Index: 12649 entries, 0 to 12648\n",
      "Data columns (total 2 columns):\n",
      " #   Column  Non-Null Count  Dtype         \n",
      "---  ------  --------------  -----         \n",
      " 0   date    12649 non-null  datetime64[ns]\n",
      " 1   rate    12649 non-null  float32       \n",
      "dtypes: datetime64[ns](1), float32(1)\n",
      "memory usage: 247.1 KB\n"
     ]
    }
   ],
   "source": [
    "data.info()"
   ]
  },
  {
   "cell_type": "markdown",
   "id": "bcaf068c",
   "metadata": {},
   "source": [
    "#### Checking Duplicates"
   ]
  },
  {
   "cell_type": "code",
   "execution_count": 16,
   "id": "92a44ef9",
   "metadata": {},
   "outputs": [
    {
     "data": {
      "text/plain": [
       "0"
      ]
     },
     "execution_count": 16,
     "metadata": {},
     "output_type": "execute_result"
    }
   ],
   "source": [
    "data.duplicated().sum()"
   ]
  },
  {
   "cell_type": "markdown",
   "id": "0a7d88bf",
   "metadata": {},
   "source": [
    "No Duplicates found"
   ]
  },
  {
   "cell_type": "markdown",
   "id": "d97300ea",
   "metadata": {},
   "source": [
    "### Final Data"
   ]
  },
  {
   "cell_type": "code",
   "execution_count": 17,
   "id": "21065395",
   "metadata": {},
   "outputs": [],
   "source": [
    "final_data = data.copy()"
   ]
  },
  {
   "cell_type": "code",
   "execution_count": 18,
   "id": "d283bee7",
   "metadata": {},
   "outputs": [
    {
     "data": {
      "text/html": [
       "<div>\n",
       "<style scoped>\n",
       "    .dataframe tbody tr th:only-of-type {\n",
       "        vertical-align: middle;\n",
       "    }\n",
       "\n",
       "    .dataframe tbody tr th {\n",
       "        vertical-align: top;\n",
       "    }\n",
       "\n",
       "    .dataframe thead th {\n",
       "        text-align: right;\n",
       "    }\n",
       "</style>\n",
       "<table border=\"1\" class=\"dataframe\">\n",
       "  <thead>\n",
       "    <tr style=\"text-align: right;\">\n",
       "      <th></th>\n",
       "      <th>date</th>\n",
       "      <th>rate</th>\n",
       "    </tr>\n",
       "  </thead>\n",
       "  <tbody>\n",
       "    <tr>\n",
       "      <th>0</th>\n",
       "      <td>1973-01-02</td>\n",
       "      <td>8.02</td>\n",
       "    </tr>\n",
       "    <tr>\n",
       "      <th>1</th>\n",
       "      <td>1973-01-03</td>\n",
       "      <td>8.02</td>\n",
       "    </tr>\n",
       "    <tr>\n",
       "      <th>2</th>\n",
       "      <td>1973-01-04</td>\n",
       "      <td>8.00</td>\n",
       "    </tr>\n",
       "    <tr>\n",
       "      <th>3</th>\n",
       "      <td>1973-01-05</td>\n",
       "      <td>8.01</td>\n",
       "    </tr>\n",
       "    <tr>\n",
       "      <th>4</th>\n",
       "      <td>1973-01-08</td>\n",
       "      <td>8.00</td>\n",
       "    </tr>\n",
       "  </tbody>\n",
       "</table>\n",
       "</div>"
      ],
      "text/plain": [
       "        date  rate\n",
       "0 1973-01-02  8.02\n",
       "1 1973-01-03  8.02\n",
       "2 1973-01-04  8.00\n",
       "3 1973-01-05  8.01\n",
       "4 1973-01-08  8.00"
      ]
     },
     "execution_count": 18,
     "metadata": {},
     "output_type": "execute_result"
    }
   ],
   "source": [
    "final_data.head()"
   ]
  },
  {
   "cell_type": "code",
   "execution_count": 19,
   "id": "f6bd6a34",
   "metadata": {},
   "outputs": [],
   "source": [
    "data1 = data.copy()"
   ]
  },
  {
   "cell_type": "code",
   "execution_count": 20,
   "id": "a9d5173d",
   "metadata": {},
   "outputs": [],
   "source": [
    "#data1 = data.set_index('date')"
   ]
  },
  {
   "cell_type": "code",
   "execution_count": 21,
   "id": "604c3887",
   "metadata": {},
   "outputs": [
    {
     "data": {
      "text/html": [
       "<div>\n",
       "<style scoped>\n",
       "    .dataframe tbody tr th:only-of-type {\n",
       "        vertical-align: middle;\n",
       "    }\n",
       "\n",
       "    .dataframe tbody tr th {\n",
       "        vertical-align: top;\n",
       "    }\n",
       "\n",
       "    .dataframe thead th {\n",
       "        text-align: right;\n",
       "    }\n",
       "</style>\n",
       "<table border=\"1\" class=\"dataframe\">\n",
       "  <thead>\n",
       "    <tr style=\"text-align: right;\">\n",
       "      <th></th>\n",
       "      <th>date</th>\n",
       "      <th>rate</th>\n",
       "    </tr>\n",
       "  </thead>\n",
       "  <tbody>\n",
       "    <tr>\n",
       "      <th>0</th>\n",
       "      <td>1973-01-02</td>\n",
       "      <td>8.02</td>\n",
       "    </tr>\n",
       "    <tr>\n",
       "      <th>1</th>\n",
       "      <td>1973-01-03</td>\n",
       "      <td>8.02</td>\n",
       "    </tr>\n",
       "    <tr>\n",
       "      <th>2</th>\n",
       "      <td>1973-01-04</td>\n",
       "      <td>8.00</td>\n",
       "    </tr>\n",
       "    <tr>\n",
       "      <th>3</th>\n",
       "      <td>1973-01-05</td>\n",
       "      <td>8.01</td>\n",
       "    </tr>\n",
       "    <tr>\n",
       "      <th>4</th>\n",
       "      <td>1973-01-08</td>\n",
       "      <td>8.00</td>\n",
       "    </tr>\n",
       "  </tbody>\n",
       "</table>\n",
       "</div>"
      ],
      "text/plain": [
       "        date  rate\n",
       "0 1973-01-02  8.02\n",
       "1 1973-01-03  8.02\n",
       "2 1973-01-04  8.00\n",
       "3 1973-01-05  8.01\n",
       "4 1973-01-08  8.00"
      ]
     },
     "execution_count": 21,
     "metadata": {},
     "output_type": "execute_result"
    }
   ],
   "source": [
    "data1.head()"
   ]
  },
  {
   "cell_type": "code",
   "execution_count": 22,
   "id": "677c44a0",
   "metadata": {},
   "outputs": [],
   "source": [
    "final_data1 = data1.copy()"
   ]
  },
  {
   "cell_type": "markdown",
   "id": "610e8994",
   "metadata": {},
   "source": [
    "### Segregating Years, Months, Day"
   ]
  },
  {
   "cell_type": "code",
   "execution_count": 23,
   "id": "36b6d62c",
   "metadata": {},
   "outputs": [],
   "source": [
    "#copy data \n",
    "df1 = final_data.copy()"
   ]
  },
  {
   "cell_type": "code",
   "execution_count": 24,
   "id": "8dc323ac",
   "metadata": {},
   "outputs": [],
   "source": [
    "#if date is not set to index then use \n",
    "#Years\n",
    "df1['Year']= [i.year for i in df1['date']]\n",
    "#Months\n",
    "df1['Month']= [i.month for i in df1['date']]\n",
    "#Days\n",
    "df1['Day']= [i.day for i in df1['date']]"
   ]
  },
  {
   "cell_type": "code",
   "execution_count": 25,
   "id": "d4d13148",
   "metadata": {},
   "outputs": [],
   "source": [
    "#Date is set to index\n",
    "#Years\n",
    "#df1['Year']= df1.index.year\n",
    "#Months\n",
    "#df1['Month']= df1.index.month\n",
    "#Days\n",
    "#df1['Day']= df1.index.day"
   ]
  },
  {
   "cell_type": "code",
   "execution_count": 26,
   "id": "99d0a126",
   "metadata": {},
   "outputs": [
    {
     "data": {
      "text/html": [
       "<div>\n",
       "<style scoped>\n",
       "    .dataframe tbody tr th:only-of-type {\n",
       "        vertical-align: middle;\n",
       "    }\n",
       "\n",
       "    .dataframe tbody tr th {\n",
       "        vertical-align: top;\n",
       "    }\n",
       "\n",
       "    .dataframe thead th {\n",
       "        text-align: right;\n",
       "    }\n",
       "</style>\n",
       "<table border=\"1\" class=\"dataframe\">\n",
       "  <thead>\n",
       "    <tr style=\"text-align: right;\">\n",
       "      <th></th>\n",
       "      <th>date</th>\n",
       "      <th>rate</th>\n",
       "      <th>Year</th>\n",
       "      <th>Month</th>\n",
       "      <th>Day</th>\n",
       "    </tr>\n",
       "  </thead>\n",
       "  <tbody>\n",
       "    <tr>\n",
       "      <th>0</th>\n",
       "      <td>1973-01-02</td>\n",
       "      <td>8.02</td>\n",
       "      <td>1973</td>\n",
       "      <td>1</td>\n",
       "      <td>2</td>\n",
       "    </tr>\n",
       "    <tr>\n",
       "      <th>1</th>\n",
       "      <td>1973-01-03</td>\n",
       "      <td>8.02</td>\n",
       "      <td>1973</td>\n",
       "      <td>1</td>\n",
       "      <td>3</td>\n",
       "    </tr>\n",
       "    <tr>\n",
       "      <th>2</th>\n",
       "      <td>1973-01-04</td>\n",
       "      <td>8.00</td>\n",
       "      <td>1973</td>\n",
       "      <td>1</td>\n",
       "      <td>4</td>\n",
       "    </tr>\n",
       "    <tr>\n",
       "      <th>3</th>\n",
       "      <td>1973-01-05</td>\n",
       "      <td>8.01</td>\n",
       "      <td>1973</td>\n",
       "      <td>1</td>\n",
       "      <td>5</td>\n",
       "    </tr>\n",
       "    <tr>\n",
       "      <th>4</th>\n",
       "      <td>1973-01-08</td>\n",
       "      <td>8.00</td>\n",
       "      <td>1973</td>\n",
       "      <td>1</td>\n",
       "      <td>8</td>\n",
       "    </tr>\n",
       "  </tbody>\n",
       "</table>\n",
       "</div>"
      ],
      "text/plain": [
       "        date  rate  Year  Month  Day\n",
       "0 1973-01-02  8.02  1973      1    2\n",
       "1 1973-01-03  8.02  1973      1    3\n",
       "2 1973-01-04  8.00  1973      1    4\n",
       "3 1973-01-05  8.01  1973      1    5\n",
       "4 1973-01-08  8.00  1973      1    8"
      ]
     },
     "execution_count": 26,
     "metadata": {},
     "output_type": "execute_result"
    }
   ],
   "source": [
    "df1.head()"
   ]
  },
  {
   "cell_type": "code",
   "execution_count": 27,
   "id": "ae310fda",
   "metadata": {},
   "outputs": [
    {
     "name": "stdout",
     "output_type": "stream",
     "text": [
      "<class 'pandas.core.frame.DataFrame'>\n",
      "Int64Index: 12649 entries, 0 to 12648\n",
      "Data columns (total 5 columns):\n",
      " #   Column  Non-Null Count  Dtype         \n",
      "---  ------  --------------  -----         \n",
      " 0   date    12649 non-null  datetime64[ns]\n",
      " 1   rate    12649 non-null  float32       \n",
      " 2   Year    12649 non-null  int64         \n",
      " 3   Month   12649 non-null  int64         \n",
      " 4   Day     12649 non-null  int64         \n",
      "dtypes: datetime64[ns](1), float32(1), int64(3)\n",
      "memory usage: 543.5 KB\n"
     ]
    }
   ],
   "source": [
    "df1.info()"
   ]
  },
  {
   "cell_type": "markdown",
   "id": "a20ed95a",
   "metadata": {},
   "source": [
    "## Visialization"
   ]
  },
  {
   "cell_type": "markdown",
   "id": "d24da298",
   "metadata": {},
   "source": [
    "### Line Plot"
   ]
  },
  {
   "cell_type": "code",
   "execution_count": 28,
   "id": "06d58efb",
   "metadata": {},
   "outputs": [
    {
     "data": {
      "image/png": "[encoded data removed]",
      "text/plain": [
       "<Figure size 1800x800 with 1 Axes>"
      ]
     },
     "metadata": {
      "needs_background": "light"
     },
     "output_type": "display_data"
    }
   ],
   "source": [
    "#Line Plot\n",
    "plt.figure(figsize =(18,8),dpi=100)\n",
    "df1.rate.plot()\n",
    "plt.ylabel('Spot exchange rate, US \\$ into INR')\n",
    "plt.xlabel('Year')\n",
    "plt.title('INR/USD exchange rate for the years 1973-01-02 to 2021-06-25')\n",
    "plt.show()"
   ]
  },
  {
   "cell_type": "markdown",
   "id": "6be77639",
   "metadata": {},
   "source": [
    "### Line Plot on 10 years interval"
   ]
  },
  {
   "cell_type": "code",
   "execution_count": 29,
   "id": "340fb13d",
   "metadata": {},
   "outputs": [
    {
     "data": {
      "image/png": "[encoded data removed]",
      "text/plain": [
       "<Figure size 1080x720 with 5 Axes>"
      ]
     },
     "metadata": {
      "needs_background": "light"
     },
     "output_type": "display_data"
    }
   ],
   "source": [
    "fig, ax = plt.subplots(5, 1, figsize=(15, 10), sharey=True)\n",
    "df1.loc['1973':'1982']['rate'].plot(xlabel=\"1973-1982\",\n",
    "                                                stacked=True,\n",
    "                                                ax=ax[0],\n",
    "                                                grid=True)\n",
    "df1.loc['1983':'1992']['rate'].plot(xlabel=\"1983-1992\",\n",
    "                                                stacked=True,\n",
    "                                                ax=ax[1],\n",
    "                                                grid=True)\n",
    "df1.loc['1993':'2002']['rate'].plot(xlabel=\"1993-2002\",\n",
    "                                                ax=ax[2],\n",
    "                                                grid=True)\n",
    "df1.loc['2003':'2012']['rate'].plot(xlabel=\"2003-2012\",\n",
    "                                                ax=ax[3],\n",
    "                                                grid=True)\n",
    "df1.loc['2013':'2022']['rate'].plot(xlabel=\"2013-2021\",\n",
    "                                                ax=ax[4],\n",
    "                                                grid=True)\n",
    "plt.tight_layout()\n",
    "plt.show()"
   ]
  },
  {
   "cell_type": "markdown",
   "id": "648b4a97",
   "metadata": {},
   "source": [
    "### Box Plot"
   ]
  },
  {
   "cell_type": "code",
   "execution_count": 30,
   "id": "917a4d44",
   "metadata": {},
   "outputs": [
    {
     "data": {
      "image/png": "[encoded data removed]",
      "text/plain": [
       "<Figure size 1296x576 with 49 Axes>"
      ]
     },
     "metadata": {
      "needs_background": "light"
     },
     "output_type": "display_data"
    }
   ],
   "source": [
    "box1 = df1.groupby('Year')\n",
    "\n",
    "years = list(np.unique(df1.Year))\n",
    "\n",
    "fig, ax = plt.subplots(1, len(years), figsize=(18, 8), sharey=True)\n",
    "for i, year in enumerate(years):\n",
    "    X = box1.get_group(year)\n",
    "    # subplots=True,layout=(1,len(A)),figsize=(18,8),use_index = True,\n",
    "    X.plot(y='rate',\n",
    "           kind='box',\n",
    "           ax=ax[i],\n",
    "           label=year,\n",
    "           rot=90,\n",
    "           ylim=(5, 85),\n",
    "           sharey=True)\n",
    "    plt.tight_layout\n",
    "#plt.title('box plot');\n",
    "plt.show()"
   ]
  },
  {
   "cell_type": "markdown",
   "id": "2f1e76fd",
   "metadata": {},
   "source": [
    "### Box Plot with 5 years interval"
   ]
  },
  {
   "cell_type": "code",
   "execution_count": 31,
   "id": "9776f965",
   "metadata": {},
   "outputs": [
    {
     "data": {
      "image/png": "[encoded data removed]",
      "text/plain": [
       "<Figure size 1080x576 with 10 Axes>"
      ]
     },
     "metadata": {
      "needs_background": "light"
     },
     "output_type": "display_data"
    }
   ],
   "source": [
    "fig, ax = plt.subplots(1, 10, figsize=(15, 8), sharey=True)\n",
    "df1.loc['1973':'1977']['rate'].plot(kind='box',\n",
    "                                                label=\"1973-1977\",\n",
    "                                                stacked=True,\n",
    "                                                ax=ax[0],\n",
    "                                                grid=True)\n",
    "df1.loc['1977':'1982']['rate'].plot(kind='box',\n",
    "                                                label=\"1977-1982\",\n",
    "                                                stacked=True,\n",
    "                                                ax=ax[1],\n",
    "                                                grid=True)\n",
    "df1.loc['1983':'1987']['rate'].plot(kind='box',\n",
    "                                                label=\"1983-1987\",\n",
    "                                                stacked=True,\n",
    "                                                ax=ax[2],\n",
    "                                                grid=True)\n",
    "df1.loc['1988':'1992']['rate'].plot(kind='box',\n",
    "                                                label=\"1988-1992\",\n",
    "                                                stacked=True,\n",
    "                                                ax=ax[3],\n",
    "                                                grid=True)\n",
    "df1.loc['1992':'1997']['rate'].plot(kind='box',\n",
    "                                                label=\"1993-1997\",\n",
    "                                                ax=ax[4],\n",
    "                                                grid=True)\n",
    "df1.loc['1997':'2002']['rate'].plot(kind='box',\n",
    "                                                label=\"1998-2002\",\n",
    "                                                ax=ax[5],\n",
    "                                                grid=True)\n",
    "df1.loc['2003':'2007']['rate'].plot(kind='box',\n",
    "                                                label=\"2003-2007\",\n",
    "                                                ax=ax[6],\n",
    "                                                grid=True)\n",
    "df1.loc['2008':'2012']['rate'].plot(kind='box',\n",
    "                                                label=\"2008-2012\",\n",
    "                                                ax=ax[7],\n",
    "                                                grid=True)\n",
    "df1.loc['2013':'2017']['rate'].plot(kind='box',\n",
    "                                                label=\"2013-2017\",\n",
    "                                                ax=ax[8],\n",
    "                                                grid=True)\n",
    "df1.loc['2018':'2021']['rate'].plot(kind='box',\n",
    "                                                label=\"2018-2021\",\n",
    "                                                ax=ax[9],\n",
    "                                                grid=True)\n",
    "plt.tight_layout()\n",
    "plt.show()"
   ]
  },
  {
   "cell_type": "code",
   "execution_count": null,
   "id": "d20b3372",
   "metadata": {},
   "outputs": [],
   "source": []
  },
  {
   "cell_type": "markdown",
   "id": "1b61604c",
   "metadata": {},
   "source": [
    "## LSTM"
   ]
  },
  {
   "cell_type": "code",
   "execution_count": 32,
   "id": "16ba63d6",
   "metadata": {},
   "outputs": [],
   "source": [
    "df2 = final_data.copy()\n",
    "df2 = df2.set_index('date')"
   ]
  },
  {
   "cell_type": "code",
   "execution_count": 33,
   "id": "e61d3693",
   "metadata": {},
   "outputs": [
    {
     "data": {
      "text/html": [
       "<div>\n",
       "<style scoped>\n",
       "    .dataframe tbody tr th:only-of-type {\n",
       "        vertical-align: middle;\n",
       "    }\n",
       "\n",
       "    .dataframe tbody tr th {\n",
       "        vertical-align: top;\n",
       "    }\n",
       "\n",
       "    .dataframe thead th {\n",
       "        text-align: right;\n",
       "    }\n",
       "</style>\n",
       "<table border=\"1\" class=\"dataframe\">\n",
       "  <thead>\n",
       "    <tr style=\"text-align: right;\">\n",
       "      <th></th>\n",
       "      <th>rate</th>\n",
       "    </tr>\n",
       "    <tr>\n",
       "      <th>date</th>\n",
       "      <th></th>\n",
       "    </tr>\n",
       "  </thead>\n",
       "  <tbody>\n",
       "    <tr>\n",
       "      <th>1973-01-02</th>\n",
       "      <td>8.02</td>\n",
       "    </tr>\n",
       "    <tr>\n",
       "      <th>1973-01-03</th>\n",
       "      <td>8.02</td>\n",
       "    </tr>\n",
       "    <tr>\n",
       "      <th>1973-01-04</th>\n",
       "      <td>8.00</td>\n",
       "    </tr>\n",
       "    <tr>\n",
       "      <th>1973-01-05</th>\n",
       "      <td>8.01</td>\n",
       "    </tr>\n",
       "    <tr>\n",
       "      <th>1973-01-08</th>\n",
       "      <td>8.00</td>\n",
       "    </tr>\n",
       "  </tbody>\n",
       "</table>\n",
       "</div>"
      ],
      "text/plain": [
       "            rate\n",
       "date            \n",
       "1973-01-02  8.02\n",
       "1973-01-03  8.02\n",
       "1973-01-04  8.00\n",
       "1973-01-05  8.01\n",
       "1973-01-08  8.00"
      ]
     },
     "execution_count": 33,
     "metadata": {},
     "output_type": "execute_result"
    }
   ],
   "source": [
    "df2.head()"
   ]
  },
  {
   "cell_type": "markdown",
   "id": "eaaa6fc7",
   "metadata": {},
   "source": [
    "### MinMax Scaler"
   ]
  },
  {
   "cell_type": "code",
   "execution_count": 34,
   "id": "4a50d9b3",
   "metadata": {},
   "outputs": [],
   "source": [
    "#Library\n",
    "from sklearn.preprocessing import MinMaxScaler"
   ]
  },
  {
   "cell_type": "code",
   "execution_count": 35,
   "id": "4a6b9022",
   "metadata": {},
   "outputs": [],
   "source": [
    "scaler = MinMaxScaler()"
   ]
  },
  {
   "cell_type": "code",
   "execution_count": 36,
   "id": "f8c4e286",
   "metadata": {},
   "outputs": [],
   "source": [
    "df3 = scaler.fit_transform(df2)"
   ]
  },
  {
   "cell_type": "markdown",
   "id": "c237c5a9",
   "metadata": {},
   "source": [
    "### Splitting Data"
   ]
  },
  {
   "cell_type": "code",
   "execution_count": 37,
   "id": "98f86b6b",
   "metadata": {},
   "outputs": [],
   "source": [
    "#Training and test sets\n",
    "split_point_lstm = round(len(df3)*(3/4))\n",
    "df3_train = df3[:split_point_lstm]\n",
    "lstm_len_train = len(df3_train)\n",
    "df3_test = df3[split_point_lstm:]\n",
    "lstm_len_test = len(df3_test)"
   ]
  },
  {
   "cell_type": "code",
   "execution_count": 38,
   "id": "0f969c26",
   "metadata": {},
   "outputs": [
    {
     "name": "stdout",
     "output_type": "stream",
     "text": [
      "(9487, 1)\n",
      "(3162, 1)\n"
     ]
    }
   ],
   "source": [
    "print(df3_train.shape)\n",
    "print(df3_test.shape)"
   ]
  },
  {
   "cell_type": "markdown",
   "id": "f2143698",
   "metadata": {},
   "source": [
    "### Transformation"
   ]
  },
  {
   "cell_type": "code",
   "execution_count": 39,
   "id": "9774143f",
   "metadata": {},
   "outputs": [],
   "source": [
    "def get_data(data3_lstm, look_back):\n",
    "  datax, datay = [],[]\n",
    "  for i in range(len(data3_lstm)-look_back-1):\n",
    "    datax.append(data3_lstm[i:(i+look_back),0])\n",
    "    datay.append(data3_lstm[i+look_back,0])\n",
    "  return np.array(datax) , np.array(datay)"
   ]
  },
  {
   "cell_type": "code",
   "execution_count": 40,
   "id": "9e033bae",
   "metadata": {},
   "outputs": [
    {
     "name": "stdout",
     "output_type": "stream",
     "text": [
      "(9485, 1)\n",
      "(9485,)\n"
     ]
    }
   ],
   "source": [
    "look_back = 1\n",
    "\n",
    "x_train_lstm , y_train_lstm = get_data(df3_train, look_back)\n",
    "print(x_train_lstm.shape)\n",
    "print(y_train_lstm.shape)"
   ]
  },
  {
   "cell_type": "code",
   "execution_count": 41,
   "id": "2091a35f",
   "metadata": {},
   "outputs": [
    {
     "name": "stdout",
     "output_type": "stream",
     "text": [
      "(3160, 1)\n",
      "(3160,)\n"
     ]
    }
   ],
   "source": [
    "x_test_lstm , y_test_lstm = get_data(df3_test,look_back)\n",
    "print(x_test_lstm.shape)\n",
    "print(y_test_lstm.shape)"
   ]
  },
  {
   "cell_type": "code",
   "execution_count": 42,
   "id": "5c2b5415",
   "metadata": {},
   "outputs": [],
   "source": [
    "#Processing train and test sets for LSTM model\n",
    "x_train_lstm = x_train_lstm.reshape(x_train_lstm.shape[0],x_train_lstm.shape[1], 1)\n",
    "x_test_lstm = x_test_lstm.reshape(x_test_lstm.shape[0],x_test_lstm.shape[1], 1)"
   ]
  },
  {
   "cell_type": "code",
   "execution_count": 43,
   "id": "80c9a63d",
   "metadata": {},
   "outputs": [
    {
     "name": "stdout",
     "output_type": "stream",
     "text": [
      "(9485, 1, 1)\n",
      "(3160, 1, 1)\n"
     ]
    }
   ],
   "source": [
    "print(x_train_lstm.shape)\n",
    "print(x_test_lstm.shape)"
   ]
  },
  {
   "cell_type": "markdown",
   "id": "ed4d8c00",
   "metadata": {},
   "source": [
    "### Model"
   ]
  },
  {
   "cell_type": "code",
   "execution_count": 44,
   "id": "6f1fb62c",
   "metadata": {},
   "outputs": [],
   "source": [
    "#Defining the LSTM model\n",
    "from keras.models import Sequential\n",
    "from keras.layers import Dense,LSTM\n",
    "#METRICS\n",
    "from sklearn.metrics import accuracy_score, confusion_matrix,classification_report, r2_score,mean_absolute_error,mean_squared_error"
   ]
  },
  {
   "cell_type": "code",
   "execution_count": 45,
   "id": "074b8f39",
   "metadata": {},
   "outputs": [],
   "source": [
    "n_features_lstm=x_train_lstm.shape[1]\n",
    "model_lstm=Sequential()\n",
    "model_lstm.add(LSTM(100,activation='relu',input_shape=(1,1)))\n",
    "model_lstm.add(Dense(n_features_lstm))"
   ]
  },
  {
   "cell_type": "code",
   "execution_count": 46,
   "id": "cb902592",
   "metadata": {},
   "outputs": [
    {
     "name": "stdout",
     "output_type": "stream",
     "text": [
      "Model: \"sequential\"\n",
      "_________________________________________________________________\n",
      "Layer (type)                 Output Shape              Param #   \n",
      "=================================================================\n",
      "lstm (LSTM)                  (None, 100)               40800     \n",
      "_________________________________________________________________\n",
      "dense (Dense)                (None, 1)                 101       \n",
      "=================================================================\n",
      "Total params: 40,901\n",
      "Trainable params: 40,901\n",
      "Non-trainable params: 0\n",
      "_________________________________________________________________\n"
     ]
    }
   ],
   "source": [
    "model_lstm.summary()"
   ]
  },
  {
   "cell_type": "markdown",
   "id": "2aa1af54",
   "metadata": {},
   "source": [
    "#### Compilation"
   ]
  },
  {
   "cell_type": "code",
   "execution_count": 47,
   "id": "95dcf594",
   "metadata": {},
   "outputs": [],
   "source": [
    "model_lstm.compile(optimizer='adam', loss = 'mse')"
   ]
  },
  {
   "cell_type": "code",
   "execution_count": 48,
   "id": "698a19c9",
   "metadata": {},
   "outputs": [
    {
     "name": "stdout",
     "output_type": "stream",
     "text": [
      "Epoch 1/5\n",
      "9485/9485 [==============================] - 24s 748us/step - loss: 0.0064\n",
      "Epoch 2/5\n",
      "9485/9485 [==============================] - 8s 868us/step - loss: 8.9194e-06\n",
      "Epoch 3/5\n",
      "9485/9485 [==============================] - 9s 980us/step - loss: 1.0680e-05\n",
      "Epoch 4/5\n",
      "9485/9485 [==============================] - 9s 943us/step - loss: 9.3822e-06\n",
      "Epoch 5/5\n",
      "9485/9485 [==============================] - 8s 838us/step - loss: 7.6351e-06\n"
     ]
    },
    {
     "data": {
      "text/plain": [
       "<keras.callbacks.History at 0x24bb2df1ee0>"
      ]
     },
     "execution_count": 48,
     "metadata": {},
     "output_type": "execute_result"
    }
   ],
   "source": [
    "#Training\n",
    "model_lstm.fit(x_train_lstm,y_train_lstm, epochs = 5, batch_size=1)"
   ]
  },
  {
   "cell_type": "code",
   "execution_count": 49,
   "id": "1fa32d3d",
   "metadata": {},
   "outputs": [
    {
     "data": {
      "text/plain": [
       "array([0.01433486], dtype=float32)"
      ]
     },
     "execution_count": 49,
     "metadata": {},
     "output_type": "execute_result"
    }
   ],
   "source": [
    "#Prediction using the trained model\n",
    "scaler.scale_"
   ]
  },
  {
   "cell_type": "code",
   "execution_count": 50,
   "id": "3ee9b7fb",
   "metadata": {},
   "outputs": [
    {
     "name": "stdout",
     "output_type": "stream",
     "text": [
      "[[49.800453]\n",
      " [49.530796]\n",
      " [47.732788]\n",
      " [47.802723]\n",
      " [47.453053]\n",
      " [47.453053]\n",
      " [47.10337 ]\n",
      " [47.10337 ]\n",
      " [47.852673]\n",
      " [47.762756]]\n"
     ]
    }
   ],
   "source": [
    "y_pred_lstm = model_lstm.predict(x_test_lstm)\n",
    "y_pred_lstm = scaler.inverse_transform(y_pred_lstm)\n",
    "print(y_pred_lstm[:10])"
   ]
  },
  {
   "cell_type": "code",
   "execution_count": 51,
   "id": "31bbcf94",
   "metadata": {},
   "outputs": [
    {
     "name": "stdout",
     "output_type": "stream",
     "text": [
      "[[49.380005]\n",
      " [47.579998]\n",
      " [47.65    ]\n",
      " [47.299995]\n",
      " [47.299995]\n",
      " [46.949997]\n",
      " [46.949997]\n",
      " [47.699997]\n",
      " [47.61    ]\n",
      " [47.499996]]\n"
     ]
    }
   ],
   "source": [
    "#Processing test shape\n",
    "y_test_lstm = np.array(y_test_lstm).reshape(-1,1)\n",
    "y_test_lstm = scaler.inverse_transform(y_test_lstm)\n",
    "print(y_test_lstm[:10])"
   ]
  },
  {
   "cell_type": "markdown",
   "id": "3c1d544d",
   "metadata": {},
   "source": [
    "#### Visualization"
   ]
  },
  {
   "cell_type": "code",
   "execution_count": 52,
   "id": "0dc5b2a9",
   "metadata": {},
   "outputs": [
    {
     "data": {
      "text/plain": [
       "<matplotlib.legend.Legend at 0x24bb3d07e50>"
      ]
     },
     "execution_count": 52,
     "metadata": {},
     "output_type": "execute_result"
    },
    {
     "data": {
      "image/png": "[encoded data removed]",
      "text/plain": [
       "<Figure size 720x576 with 1 Axes>"
      ]
     },
     "metadata": {
      "needs_background": "light"
     },
     "output_type": "display_data"
    }
   ],
   "source": [
    "#Visualizing the results\n",
    "plt.figure(figsize=(10,8))\n",
    "plt.title('Foreign Exchange Rate of India')\n",
    "plt.plot(y_test_lstm , label = 'Actual', color = 'g', linewidth=6)\n",
    "plt.plot(y_pred_lstm , label = 'Predicted', color = 'r', linewidth=1)\n",
    "plt.legend()"
   ]
  },
  {
   "cell_type": "markdown",
   "id": "76e1c2b9",
   "metadata": {},
   "source": [
    "#### Mean Squared Error"
   ]
  },
  {
   "cell_type": "code",
   "execution_count": 53,
   "id": "b4709e7b",
   "metadata": {},
   "outputs": [
    {
     "data": {
      "text/plain": [
       "0.20672634"
      ]
     },
     "execution_count": 53,
     "metadata": {},
     "output_type": "execute_result"
    }
   ],
   "source": [
    "mean_squared_error(y_test_lstm, y_pred_lstm)"
   ]
  },
  {
   "cell_type": "markdown",
   "id": "824100db",
   "metadata": {},
   "source": [
    "## LSTM on 1 year Data"
   ]
  },
  {
   "cell_type": "code",
   "execution_count": 54,
   "id": "2f617fad",
   "metadata": {},
   "outputs": [],
   "source": [
    "scaler_one_year = MinMaxScaler()"
   ]
  },
  {
   "cell_type": "markdown",
   "id": "01bc1499",
   "metadata": {},
   "source": [
    "### Data"
   ]
  },
  {
   "cell_type": "code",
   "execution_count": 55,
   "id": "307de526",
   "metadata": {},
   "outputs": [],
   "source": [
    "df_oneyear = final_data.copy()"
   ]
  },
  {
   "cell_type": "code",
   "execution_count": 56,
   "id": "c9740cb9",
   "metadata": {},
   "outputs": [],
   "source": [
    "df_oneyear = df_oneyear.set_index('date')"
   ]
  },
  {
   "cell_type": "code",
   "execution_count": 57,
   "id": "52c679e3",
   "metadata": {},
   "outputs": [],
   "source": [
    "one_year = df_oneyear.loc[df_oneyear.index >= '2020-06-25']"
   ]
  },
  {
   "cell_type": "code",
   "execution_count": 58,
   "id": "d4024c50",
   "metadata": {},
   "outputs": [],
   "source": [
    "lstm_one_year = one_year.copy()"
   ]
  },
  {
   "cell_type": "code",
   "execution_count": 59,
   "id": "91bb051f",
   "metadata": {},
   "outputs": [
    {
     "data": {
      "text/html": [
       "<div>\n",
       "<style scoped>\n",
       "    .dataframe tbody tr th:only-of-type {\n",
       "        vertical-align: middle;\n",
       "    }\n",
       "\n",
       "    .dataframe tbody tr th {\n",
       "        vertical-align: top;\n",
       "    }\n",
       "\n",
       "    .dataframe thead th {\n",
       "        text-align: right;\n",
       "    }\n",
       "</style>\n",
       "<table border=\"1\" class=\"dataframe\">\n",
       "  <thead>\n",
       "    <tr style=\"text-align: right;\">\n",
       "      <th></th>\n",
       "      <th>rate</th>\n",
       "    </tr>\n",
       "    <tr>\n",
       "      <th>date</th>\n",
       "      <th></th>\n",
       "    </tr>\n",
       "  </thead>\n",
       "  <tbody>\n",
       "    <tr>\n",
       "      <th>2020-06-25</th>\n",
       "      <td>75.580002</td>\n",
       "    </tr>\n",
       "    <tr>\n",
       "      <th>2020-06-26</th>\n",
       "      <td>75.629997</td>\n",
       "    </tr>\n",
       "    <tr>\n",
       "      <th>2020-06-29</th>\n",
       "      <td>75.519997</td>\n",
       "    </tr>\n",
       "    <tr>\n",
       "      <th>2020-06-30</th>\n",
       "      <td>75.529999</td>\n",
       "    </tr>\n",
       "    <tr>\n",
       "      <th>2020-07-01</th>\n",
       "      <td>75.500000</td>\n",
       "    </tr>\n",
       "  </tbody>\n",
       "</table>\n",
       "</div>"
      ],
      "text/plain": [
       "                 rate\n",
       "date                 \n",
       "2020-06-25  75.580002\n",
       "2020-06-26  75.629997\n",
       "2020-06-29  75.519997\n",
       "2020-06-30  75.529999\n",
       "2020-07-01  75.500000"
      ]
     },
     "execution_count": 59,
     "metadata": {},
     "output_type": "execute_result"
    }
   ],
   "source": [
    "lstm_one_year.head()"
   ]
  },
  {
   "cell_type": "code",
   "execution_count": 60,
   "id": "10846ea3",
   "metadata": {},
   "outputs": [],
   "source": [
    "one_year_lstm = scaler.fit_transform(lstm_one_year)"
   ]
  },
  {
   "cell_type": "code",
   "execution_count": 61,
   "id": "9d702739",
   "metadata": {},
   "outputs": [
    {
     "data": {
      "text/plain": [
       "array([[0.9846649 ],\n",
       "       [1.        ],\n",
       "       [0.9662571 ],\n",
       "       [0.969326  ],\n",
       "       [0.96012306],\n",
       "       [0.73926353],\n",
       "       [0.73926353],\n",
       "       [0.69018555],\n",
       "       [0.7484665 ],\n",
       "       [0.78834534],\n",
       "       [0.84355927],\n",
       "       [0.8496933 ],\n",
       "       [0.85582924],\n",
       "       [0.92331314],\n",
       "       [0.84049225],\n",
       "       [0.84049225],\n",
       "       [0.7852764 ],\n",
       "       [0.7361965 ],\n",
       "       [0.6656456 ],\n",
       "       [0.67177963],\n",
       "       [0.7484665 ],\n",
       "       [0.7361965 ],\n",
       "       [0.7361965 ],\n",
       "       [0.7791424 ],\n",
       "       [0.7822094 ],\n",
       "       [0.7699394 ],\n",
       "       [0.77607536],\n",
       "       [0.8680973 ],\n",
       "       [0.82515335],\n",
       "       [0.7453995 ],\n",
       "       [0.7668724 ],\n",
       "       [0.8190193 ],\n",
       "       [0.7791424 ],\n",
       "       [0.6871166 ],\n",
       "       [0.72392845],\n",
       "       [0.7484665 ],\n",
       "       [0.7668724 ],\n",
       "       [0.72699356],\n",
       "       [0.69018555],\n",
       "       [0.76073647],\n",
       "       [0.80981827],\n",
       "       [0.7822094 ],\n",
       "       [0.5521469 ],\n",
       "       [0.56134987],\n",
       "       [0.5674858 ],\n",
       "       [0.4662571 ],\n",
       "       [0.22699356],\n",
       "       [0.26993942],\n",
       "       [0.19325066],\n",
       "       [0.27607155],\n",
       "       [0.31288338],\n",
       "       [0.2822094 ],\n",
       "       [0.2822094 ],\n",
       "       [0.4325142 ],\n",
       "       [0.30981445],\n",
       "       [0.32515335],\n",
       "       [0.33128738],\n",
       "       [0.32208443],\n",
       "       [0.3680973 ],\n",
       "       [0.35889626],\n",
       "       [0.37730026],\n",
       "       [0.35889626],\n",
       "       [0.37116623],\n",
       "       [0.34662628],\n",
       "       [0.35582733],\n",
       "       [0.46932602],\n",
       "       [0.41104317],\n",
       "       [0.4355831 ],\n",
       "       [0.4325142 ],\n",
       "       [0.35889626],\n",
       "       [0.24846649],\n",
       "       [0.3006134 ],\n",
       "       [0.22085762],\n",
       "       [0.3159504 ],\n",
       "       [0.27914047],\n",
       "       [0.29447937],\n",
       "       [0.18711662],\n",
       "       [0.18711662],\n",
       "       [0.33128738],\n",
       "       [0.2668705 ],\n",
       "       [0.34049225],\n",
       "       [0.32208443],\n",
       "       [0.28834343],\n",
       "       [0.33742332],\n",
       "       [0.3834362 ],\n",
       "       [0.39263916],\n",
       "       [0.45705605],\n",
       "       [0.47852707],\n",
       "       [0.3834362 ],\n",
       "       [0.55828285],\n",
       "       [0.6288338 ],\n",
       "       [0.6809807 ],\n",
       "       [0.65644264],\n",
       "       [0.6871166 ],\n",
       "       [0.61042976],\n",
       "       [0.47852707],\n",
       "       [0.48773003],\n",
       "       [0.50920296],\n",
       "       [0.59509087],\n",
       "       [0.59509087],\n",
       "       [0.69325066],\n",
       "       [0.67177963],\n",
       "       [0.62576866],\n",
       "       [0.6288338 ],\n",
       "       [0.530674  ],\n",
       "       [0.5490818 ],\n",
       "       [0.5368118 ],\n",
       "       [0.5644169 ],\n",
       "       [0.52453995],\n",
       "       [0.42331314],\n",
       "       [0.42331314],\n",
       "       [0.42331314],\n",
       "       [0.5030689 ],\n",
       "       [0.3496933 ],\n",
       "       [0.41411018],\n",
       "       [0.43865204],\n",
       "       [0.4325142 ],\n",
       "       [0.4478531 ],\n",
       "       [0.4018402 ],\n",
       "       [0.41104317],\n",
       "       [0.41411018],\n",
       "       [0.4171791 ],\n",
       "       [0.38957024],\n",
       "       [0.3650303 ],\n",
       "       [0.39263916],\n",
       "       [0.35582733],\n",
       "       [0.35582733],\n",
       "       [0.50920296],\n",
       "       [0.45398712],\n",
       "       [0.42944717],\n",
       "       [0.42944717],\n",
       "       [0.42944717],\n",
       "       [0.34662628],\n",
       "       [0.29447937],\n",
       "       [0.2331276 ],\n",
       "       [0.19631958],\n",
       "       [0.19631958],\n",
       "       [0.21779251],\n",
       "       [0.23926353],\n",
       "       [0.23926353],\n",
       "       [0.32515335],\n",
       "       [0.28834343],\n",
       "       [0.34662628],\n",
       "       [0.27300644],\n",
       "       [0.21472359],\n",
       "       [0.22699356],\n",
       "       [0.21779251],\n",
       "       [0.21779251],\n",
       "       [0.25460052],\n",
       "       [0.25460052],\n",
       "       [0.18098068],\n",
       "       [0.18711662],\n",
       "       [0.19631958],\n",
       "       [0.16257668],\n",
       "       [0.20858955],\n",
       "       [0.1656456 ],\n",
       "       [0.14417076],\n",
       "       [0.22699356],\n",
       "       [0.17791367],\n",
       "       [0.14417076],\n",
       "       [0.17177963],\n",
       "       [0.14723778],\n",
       "       [0.16257668],\n",
       "       [0.14110374],\n",
       "       [0.13803673],\n",
       "       [0.09815979],\n",
       "       [0.07055092],\n",
       "       [0.07055092],\n",
       "       [0.1503067 ],\n",
       "       [0.1349678 ],\n",
       "       [0.08588982],\n",
       "       [0.03987694],\n",
       "       [0.0337429 ],\n",
       "       [0.02147293],\n",
       "       [0.00306511],\n",
       "       [0.11349678],\n",
       "       [0.47546005],\n",
       "       [0.3159504 ],\n",
       "       [0.2822094 ],\n",
       "       [0.14723778],\n",
       "       [0.11042976],\n",
       "       [0.25766754],\n",
       "       [0.29141045],\n",
       "       [0.15950775],\n",
       "       [0.1503067 ],\n",
       "       [0.09815979],\n",
       "       [0.10429382],\n",
       "       [0.06441689],\n",
       "       [0.04601097],\n",
       "       [0.05828094],\n",
       "       [0.07975388],\n",
       "       [0.02453804],\n",
       "       [0.        ],\n",
       "       [0.04601097],\n",
       "       [0.0674839 ],\n",
       "       [0.09815979],\n",
       "       [0.08588982],\n",
       "       [0.1165638 ],\n",
       "       [0.33128738],\n",
       "       [0.23619652],\n",
       "       [0.29141045],\n",
       "       [0.30674934],\n",
       "       [0.2822094 ],\n",
       "       [0.34355736],\n",
       "       [0.60736275],\n",
       "       [0.67484665],\n",
       "       [0.7208595 ],\n",
       "       [0.8159504 ],\n",
       "       [0.88957024],\n",
       "       [0.8282223 ],\n",
       "       [0.7484665 ],\n",
       "       [0.6472416 ],\n",
       "       [0.7668724 ],\n",
       "       [0.92331314],\n",
       "       [0.9355831 ],\n",
       "       [0.84049225],\n",
       "       [0.7975464 ],\n",
       "       [0.7300625 ],\n",
       "       [0.6779156 ],\n",
       "       [0.6503067 ],\n",
       "       [0.52147293],\n",
       "       [0.5       ],\n",
       "       [0.44478607],\n",
       "       [0.43865204],\n",
       "       [0.44171715],\n",
       "       [0.38957024],\n",
       "       [0.27607155],\n",
       "       [0.31901932],\n",
       "       [0.31288338],\n",
       "       [0.35582733],\n",
       "       [0.34049225],\n",
       "       [0.2638054 ],\n",
       "       [0.2852764 ],\n",
       "       [0.20552063],\n",
       "       [0.25460052],\n",
       "       [0.20245361],\n",
       "       [0.13803673],\n",
       "       [0.1503067 ],\n",
       "       [0.12576675],\n",
       "       [0.10429382],\n",
       "       [0.0674839 ],\n",
       "       [0.01533699],\n",
       "       [0.01533699],\n",
       "       [0.14110374],\n",
       "       [0.1840496 ],\n",
       "       [0.19631958],\n",
       "       [0.15337563],\n",
       "       [0.1319027 ],\n",
       "       [0.17177963],\n",
       "       [0.18711662],\n",
       "       [0.22392654],\n",
       "       [0.2668705 ],\n",
       "       [0.24233246],\n",
       "       [0.3006134 ],\n",
       "       [0.28834343],\n",
       "       [0.5490818 ],\n",
       "       [0.54294586],\n",
       "       [0.55521584],\n",
       "       [0.6134987 ],\n",
       "       [0.53987694],\n",
       "       [0.54294586],\n",
       "       [0.54294586]], dtype=float32)"
      ]
     },
     "execution_count": 61,
     "metadata": {},
     "output_type": "execute_result"
    }
   ],
   "source": [
    "one_year_lstm"
   ]
  },
  {
   "cell_type": "markdown",
   "id": "e7490896",
   "metadata": {},
   "source": [
    "### Splitting"
   ]
  },
  {
   "cell_type": "code",
   "execution_count": 62,
   "id": "16f8960e",
   "metadata": {},
   "outputs": [],
   "source": [
    "#Training and test sets\n",
    "one_year_split_point = round(len(one_year_lstm)*(3/4))\n",
    "one_year_lstm_train = one_year_lstm[:one_year_split_point]\n",
    "one_year_lstm_len_train = len(one_year_lstm_train)\n",
    "one_year_lstm_test = one_year_lstm[one_year_split_point:]\n",
    "one_year_lstm_len_test = len(one_year_lstm_test)"
   ]
  },
  {
   "cell_type": "code",
   "execution_count": 63,
   "id": "2dc52a2f",
   "metadata": {},
   "outputs": [
    {
     "name": "stdout",
     "output_type": "stream",
     "text": [
      "(196, 1)\n",
      "(66, 1)\n"
     ]
    }
   ],
   "source": [
    "print(one_year_lstm_train.shape)\n",
    "print(one_year_lstm_test.shape)"
   ]
  },
  {
   "cell_type": "markdown",
   "id": "05fb8796",
   "metadata": {},
   "source": [
    "### Transformation"
   ]
  },
  {
   "cell_type": "code",
   "execution_count": 64,
   "id": "d336b40c",
   "metadata": {},
   "outputs": [],
   "source": [
    "def get_data_one_year(data_one_year_lstm, look_back_one_year):\n",
    "  datax, datay = [],[]\n",
    "  for i in range(len(data_one_year_lstm)-look_back_one_year-1):\n",
    "    datax.append(data_one_year_lstm[i:(i+look_back_one_year),0])\n",
    "    datay.append(data_one_year_lstm[i+look_back_one_year,0])\n",
    "  return np.array(datax) , np.array(datay)"
   ]
  },
  {
   "cell_type": "code",
   "execution_count": 65,
   "id": "f3df37bb",
   "metadata": {},
   "outputs": [
    {
     "name": "stdout",
     "output_type": "stream",
     "text": [
      "(194, 1)\n",
      "(194,)\n"
     ]
    }
   ],
   "source": [
    "look_back_one_year = 1\n",
    "\n",
    "x_train_one_year , y_train_one_year = get_data_one_year(one_year_lstm_train, look_back_one_year)\n",
    "print(x_train_one_year.shape)\n",
    "print(y_train_one_year.shape)"
   ]
  },
  {
   "cell_type": "code",
   "execution_count": 66,
   "id": "fbdfdc4e",
   "metadata": {},
   "outputs": [
    {
     "name": "stdout",
     "output_type": "stream",
     "text": [
      "(64, 1)\n",
      "(64,)\n"
     ]
    }
   ],
   "source": [
    "x_test_one_year , y_test_one_year = get_data_one_year(one_year_lstm_test, look_back_one_year)\n",
    "print(x_test_one_year.shape)\n",
    "print(y_test_one_year.shape)"
   ]
  },
  {
   "cell_type": "code",
   "execution_count": 67,
   "id": "8402517e",
   "metadata": {},
   "outputs": [],
   "source": [
    "#Processing train and test sets for LSTM model\n",
    "x_train_one_year = x_train_one_year.reshape(x_train_one_year.shape[0],x_train_one_year.shape[1], 1)\n",
    "x_test_one_year = x_test_one_year.reshape(x_test_one_year.shape[0],x_test_one_year.shape[1], 1)"
   ]
  },
  {
   "cell_type": "code",
   "execution_count": 68,
   "id": "713c667b",
   "metadata": {},
   "outputs": [
    {
     "name": "stdout",
     "output_type": "stream",
     "text": [
      "(194, 1, 1)\n",
      "(64, 1, 1)\n"
     ]
    }
   ],
   "source": [
    "print(x_train_one_year.shape)\n",
    "print(x_test_one_year.shape)"
   ]
  },
  {
   "cell_type": "markdown",
   "id": "f4c443ea",
   "metadata": {},
   "source": [
    "### Model"
   ]
  },
  {
   "cell_type": "code",
   "execution_count": 69,
   "id": "a4b58980",
   "metadata": {},
   "outputs": [],
   "source": [
    "n_features_one_year=x_train_one_year.shape[1]\n",
    "model_one_year=Sequential()\n",
    "model_one_year.add(LSTM(100,activation='relu',input_shape=(1,1)))\n",
    "model_one_year.add(Dense(n_features_one_year))"
   ]
  },
  {
   "cell_type": "code",
   "execution_count": 70,
   "id": "6c769eff",
   "metadata": {},
   "outputs": [
    {
     "name": "stdout",
     "output_type": "stream",
     "text": [
      "Model: \"sequential_1\"\n",
      "_________________________________________________________________\n",
      "Layer (type)                 Output Shape              Param #   \n",
      "=================================================================\n",
      "lstm_1 (LSTM)                (None, 100)               40800     \n",
      "_________________________________________________________________\n",
      "dense_1 (Dense)              (None, 1)                 101       \n",
      "=================================================================\n",
      "Total params: 40,901\n",
      "Trainable params: 40,901\n",
      "Non-trainable params: 0\n",
      "_________________________________________________________________\n"
     ]
    }
   ],
   "source": [
    "model_one_year.summary()"
   ]
  },
  {
   "cell_type": "markdown",
   "id": "197167ce",
   "metadata": {},
   "source": [
    "### Compilation"
   ]
  },
  {
   "cell_type": "code",
   "execution_count": 71,
   "id": "1dfc5018",
   "metadata": {},
   "outputs": [],
   "source": [
    "model_one_year.compile(optimizer='adam', loss = 'mse')"
   ]
  },
  {
   "cell_type": "code",
   "execution_count": 72,
   "id": "9a30360c",
   "metadata": {},
   "outputs": [
    {
     "name": "stdout",
     "output_type": "stream",
     "text": [
      "Epoch 1/5\n",
      "194/194 [==============================] - 2s 775us/step - loss: 0.1545\n",
      "Epoch 2/5\n",
      "194/194 [==============================] - 0s 843us/step - loss: 0.0255\n",
      "Epoch 3/5\n",
      "194/194 [==============================] - 0s 819us/step - loss: 0.0161\n",
      "Epoch 4/5\n",
      "194/194 [==============================] - 0s 854us/step - loss: 0.0110\n",
      "Epoch 5/5\n",
      "194/194 [==============================] - 0s 762us/step - loss: 0.0067\n"
     ]
    },
    {
     "data": {
      "text/plain": [
       "<keras.callbacks.History at 0x24bb38f0a90>"
      ]
     },
     "execution_count": 72,
     "metadata": {},
     "output_type": "execute_result"
    }
   ],
   "source": [
    "#Training\n",
    "model_one_year.fit(x_train_one_year,y_train_one_year, epochs = 5, batch_size=1)"
   ]
  },
  {
   "cell_type": "code",
   "execution_count": 73,
   "id": "dadc8535",
   "metadata": {},
   "outputs": [
    {
     "data": {
      "text/plain": [
       "array([0.306749], dtype=float32)"
      ]
     },
     "execution_count": 73,
     "metadata": {},
     "output_type": "execute_result"
    }
   ],
   "source": [
    "#Prediction using the trained model\n",
    "scaler.scale_"
   ]
  },
  {
   "cell_type": "code",
   "execution_count": 74,
   "id": "128435a8",
   "metadata": {},
   "outputs": [
    {
     "name": "stdout",
     "output_type": "stream",
     "text": [
      "[[72.87759 ]\n",
      " [72.94737 ]\n",
      " [73.474884]\n",
      " [73.23372 ]\n",
      " [73.37231 ]\n",
      " [73.41152 ]\n",
      " [73.34894 ]\n",
      " [73.506874]\n",
      " [74.24301 ]\n",
      " [74.446335]]\n"
     ]
    }
   ],
   "source": [
    "y_pred_one_year = model_one_year.predict(x_test_one_year)\n",
    "y_pred_one_year = scaler.inverse_transform(y_pred_one_year)\n",
    "print(y_pred_one_year[:10])"
   ]
  },
  {
   "cell_type": "code",
   "execution_count": 75,
   "id": "6bdb2a4e",
   "metadata": {},
   "outputs": [
    {
     "name": "stdout",
     "output_type": "stream",
     "text": [
      "[[72.75]\n",
      " [73.45]\n",
      " [73.14]\n",
      " [73.32]\n",
      " [73.37]\n",
      " [73.29]\n",
      " [73.49]\n",
      " [74.35]\n",
      " [74.57]\n",
      " [74.72]]\n"
     ]
    }
   ],
   "source": [
    "#Processing test shape\n",
    "y_test_one_year = np.array(y_test_one_year).reshape(-1,1)\n",
    "y_test_one_year = scaler.inverse_transform(y_test_one_year)\n",
    "print(y_test_one_year[:10])"
   ]
  },
  {
   "cell_type": "markdown",
   "id": "eac57050",
   "metadata": {},
   "source": [
    "#### Visualization"
   ]
  },
  {
   "cell_type": "code",
   "execution_count": 76,
   "id": "336d3256",
   "metadata": {},
   "outputs": [
    {
     "data": {
      "text/plain": [
       "<matplotlib.legend.Legend at 0x24bb77039d0>"
      ]
     },
     "execution_count": 76,
     "metadata": {},
     "output_type": "execute_result"
    },
    {
     "data": {
      "image/png": "[encoded data removed]",
      "text/plain": [
       "<Figure size 720x576 with 1 Axes>"
      ]
     },
     "metadata": {
      "needs_background": "light"
     },
     "output_type": "display_data"
    }
   ],
   "source": [
    "#Visualizing the results\n",
    "plt.figure(figsize=(10,8))\n",
    "plt.title('Foreign Exchange Rate of India')\n",
    "plt.plot(y_test_one_year , label = 'Actual', color = 'b', linewidth=6)\n",
    "plt.plot(y_pred_one_year , label = 'Predicted', color = 'r', linewidth=1)\n",
    "plt.legend()"
   ]
  },
  {
   "cell_type": "markdown",
   "id": "f76068e7",
   "metadata": {},
   "source": [
    "#### Mean Square Error"
   ]
  },
  {
   "cell_type": "code",
   "execution_count": 77,
   "id": "98dcbc25",
   "metadata": {},
   "outputs": [
    {
     "data": {
      "text/plain": [
       "0.07121718"
      ]
     },
     "execution_count": 77,
     "metadata": {},
     "output_type": "execute_result"
    }
   ],
   "source": [
    "mean_squared_error(y_test_one_year, y_pred_one_year)"
   ]
  },
  {
   "cell_type": "code",
   "execution_count": 78,
   "id": "6a768b7b",
   "metadata": {},
   "outputs": [],
   "source": [
    "close_data = df2['rate'].values"
   ]
  },
  {
   "cell_type": "markdown",
   "id": "ec35234e",
   "metadata": {},
   "source": [
    "### Prediction"
   ]
  },
  {
   "cell_type": "code",
   "execution_count": 79,
   "id": "b1abfec2",
   "metadata": {},
   "outputs": [],
   "source": [
    "lose_data = close_data.reshape((-1))\n",
    "\n",
    "def predict(num_prediction, model_one_year):\n",
    "    prediction_list = close_data[-look_back:]\n",
    "    \n",
    "    for _ in range(num_prediction):\n",
    "        x = prediction_list[-look_back:]\n",
    "        x = x.reshape((1, look_back, 1))\n",
    "        out = model_one_year.predict(x)[0][0]\n",
    "        prediction_list = np.append(prediction_list, out)\n",
    "    prediction_list = prediction_list[look_back-1:]\n",
    "        \n",
    "    return prediction_list\n",
    "    \n",
    "def predict_dates(num_prediction):\n",
    "    last_date = df1['date'].values[-1]\n",
    "    prediction_dates = pd.date_range(last_date, periods=num_prediction+1).tolist()\n",
    "    return prediction_dates\n",
    "\n",
    "num_prediction = 30\n",
    "forecast = predict(num_prediction, model_one_year)\n",
    "forecast_dates = predict_dates(num_prediction)"
   ]
  },
  {
   "cell_type": "code",
   "execution_count": 80,
   "id": "e6210eaa",
   "metadata": {},
   "outputs": [
    {
     "data": {
      "image/png": "[encoded data removed]",
      "text/plain": [
       "<Figure size 1080x432 with 1 Axes>"
      ]
     },
     "metadata": {
      "needs_background": "light"
     },
     "output_type": "display_data"
    }
   ],
   "source": [
    "#plot\n",
    "plt.figure(figsize=(15,6))\n",
    "plt.plot(forecast_dates, color='green', linestyle=\"dashdot\", marker='*', label = \"Predicted Exchange Price\")\n",
    "plt.title('Forecast exchange Rate Predication Using ARIMA Model')\n",
    "plt.legend()\n",
    "plt.show()"
   ]
  },
  {
   "cell_type": "code",
   "execution_count": 81,
   "id": "b89572a1",
   "metadata": {},
   "outputs": [
    {
     "data": {
      "image/png": "[encoded data removed]",
      "text/plain": [
       "<Figure size 1080x432 with 1 Axes>"
      ]
     },
     "metadata": {
      "needs_background": "light"
     },
     "output_type": "display_data"
    }
   ],
   "source": [
    "#plot\n",
    "plt.figure(figsize=(15,6))\n",
    "plt.plot(forecast, color='green', linestyle=\"dashdot\", marker='*', label = \"Predicted Exchange Price\")\n",
    "plt.title('Forecast exchange Rate Predication Using ARIMA Model')\n",
    "plt.legend()\n",
    "plt.show()"
   ]
  },
  {
   "cell_type": "code",
   "execution_count": 82,
   "id": "607175be",
   "metadata": {},
   "outputs": [
    {
     "data": {
      "text/plain": [
       "array([7.4139999e+01, 1.5909122e+02, 3.4159192e+02, 7.3399658e+02,\n",
       "       1.5778132e+03, 3.3916936e+03, 7.2905449e+03, 1.5670935e+04,\n",
       "       3.3684172e+04, 7.2402750e+04, 1.5562644e+05, 3.3451175e+05,\n",
       "       7.1901688e+05, 1.5454920e+06, 3.3219602e+06, 7.1403920e+06,\n",
       "       1.5347925e+07, 3.2989614e+07, 7.0909560e+07, 1.5241662e+08,\n",
       "       3.2761210e+08, 7.0418624e+08, 1.5136140e+09, 3.2534395e+09,\n",
       "       6.9931100e+09, 1.5031348e+10, 3.2309152e+10, 6.9446951e+10,\n",
       "       1.4927282e+11, 3.2085465e+11, 6.8966135e+11], dtype=float32)"
      ]
     },
     "execution_count": 82,
     "metadata": {},
     "output_type": "execute_result"
    }
   ],
   "source": [
    "forecast"
   ]
  },
  {
   "cell_type": "code",
   "execution_count": null,
   "id": "66d8d28b",
   "metadata": {},
   "outputs": [],
   "source": []
  }
 ],
 "metadata": {
  "hide_input": false,
  "kernelspec": {
   "display_name": "Python 3",
   "language": "python",
   "name": "python3"
  },
  "language_info": {
   "codemirror_mode": {
    "name": "ipython",
    "version": 3
   },
   "file_extension": ".py",
   "mimetype": "text/x-python",
   "name": "python",
   "nbconvert_exporter": "python",
   "pygments_lexer": "ipython3",
   "version": "3.8.11"
  },
  "toc": {
   "base_numbering": 1,
   "nav_menu": {},
   "number_sections": true,
   "sideBar": true,
   "skip_h1_title": true,
   "title_cell": "Table of Contents",
   "title_sidebar": "Contents",
   "toc_cell": false,
   "toc_position": {
    "height": "calc(100% - 180px)",
    "left": "10px",
    "top": "150px",
    "width": "342.267px"
   },
   "toc_section_display": true,
   "toc_window_display": true
  }
 },
 "nbformat": 4,
 "nbformat_minor": 5
}
