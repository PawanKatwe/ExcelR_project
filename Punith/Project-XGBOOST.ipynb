{
 "cells": [
  {
   "cell_type": "markdown",
   "id": "124d215f",
   "metadata": {},
   "source": [
    "# Forecast Exchange Rates"
   ]
  },
  {
   "cell_type": "markdown",
   "id": "c7154d45",
   "metadata": {},
   "source": [
    "## Importing Library"
   ]
  },
  {
   "cell_type": "code",
   "execution_count": 1,
   "id": "74d2199c",
   "metadata": {},
   "outputs": [],
   "source": [
    "#VIZ AND DATA MANIPULATION LIBRARY\n",
    "import pandas as pd\n",
    "import numpy as np\n",
    "import seaborn as sns\n",
    "import matplotlib.pyplot as plt\n",
    "\n",
    "#plotly\n",
    "from plotly import tools\n",
    "import plotly_express as px\n",
    "import plotly.graph_objects as go\n",
    "from plotly.subplots import make_subplots\n",
    "\n",
    "#datetime\n",
    "import datetime as dt\n",
    "\n",
    "#warnings\n",
    "import warnings \n",
    "warnings.filterwarnings('ignore')"
   ]
  },
  {
   "cell_type": "markdown",
   "id": "5d26cd8e",
   "metadata": {},
   "source": [
    "## Loading Data"
   ]
  },
  {
   "cell_type": "code",
   "execution_count": 2,
   "id": "e6c85619",
   "metadata": {},
   "outputs": [
    {
     "data": {
      "text/html": [
       "<div>\n",
       "<style scoped>\n",
       "    .dataframe tbody tr th:only-of-type {\n",
       "        vertical-align: middle;\n",
       "    }\n",
       "\n",
       "    .dataframe tbody tr th {\n",
       "        vertical-align: top;\n",
       "    }\n",
       "\n",
       "    .dataframe thead th {\n",
       "        text-align: right;\n",
       "    }\n",
       "</style>\n",
       "<table border=\"1\" class=\"dataframe\">\n",
       "  <thead>\n",
       "    <tr style=\"text-align: right;\">\n",
       "      <th></th>\n",
       "      <th>observation_date</th>\n",
       "      <th>DEXINUS</th>\n",
       "    </tr>\n",
       "  </thead>\n",
       "  <tbody>\n",
       "    <tr>\n",
       "      <th>0</th>\n",
       "      <td>1973-01-02</td>\n",
       "      <td>8.02</td>\n",
       "    </tr>\n",
       "    <tr>\n",
       "      <th>1</th>\n",
       "      <td>1973-01-03</td>\n",
       "      <td>8.02</td>\n",
       "    </tr>\n",
       "    <tr>\n",
       "      <th>2</th>\n",
       "      <td>1973-01-04</td>\n",
       "      <td>8.00</td>\n",
       "    </tr>\n",
       "    <tr>\n",
       "      <th>3</th>\n",
       "      <td>1973-01-05</td>\n",
       "      <td>8.01</td>\n",
       "    </tr>\n",
       "    <tr>\n",
       "      <th>4</th>\n",
       "      <td>1973-01-08</td>\n",
       "      <td>8.00</td>\n",
       "    </tr>\n",
       "  </tbody>\n",
       "</table>\n",
       "</div>"
      ],
      "text/plain": [
       "  observation_date  DEXINUS\n",
       "0       1973-01-02     8.02\n",
       "1       1973-01-03     8.02\n",
       "2       1973-01-04     8.00\n",
       "3       1973-01-05     8.01\n",
       "4       1973-01-08     8.00"
      ]
     },
     "execution_count": 2,
     "metadata": {},
     "output_type": "execute_result"
    }
   ],
   "source": [
    "inrusd = pd.read_csv('Dataset.csv',parse_dates=[\"observation_date\"])\n",
    "inrusd.head()"
   ]
  },
  {
   "cell_type": "markdown",
   "id": "af440e46",
   "metadata": {},
   "source": [
    "### Copy Data"
   ]
  },
  {
   "cell_type": "code",
   "execution_count": 3,
   "id": "c44cf661",
   "metadata": {},
   "outputs": [
    {
     "data": {
      "text/html": [
       "<div>\n",
       "<style scoped>\n",
       "    .dataframe tbody tr th:only-of-type {\n",
       "        vertical-align: middle;\n",
       "    }\n",
       "\n",
       "    .dataframe tbody tr th {\n",
       "        vertical-align: top;\n",
       "    }\n",
       "\n",
       "    .dataframe thead th {\n",
       "        text-align: right;\n",
       "    }\n",
       "</style>\n",
       "<table border=\"1\" class=\"dataframe\">\n",
       "  <thead>\n",
       "    <tr style=\"text-align: right;\">\n",
       "      <th></th>\n",
       "      <th>observation_date</th>\n",
       "      <th>DEXINUS</th>\n",
       "    </tr>\n",
       "  </thead>\n",
       "  <tbody>\n",
       "    <tr>\n",
       "      <th>0</th>\n",
       "      <td>1973-01-02</td>\n",
       "      <td>8.02</td>\n",
       "    </tr>\n",
       "    <tr>\n",
       "      <th>1</th>\n",
       "      <td>1973-01-03</td>\n",
       "      <td>8.02</td>\n",
       "    </tr>\n",
       "    <tr>\n",
       "      <th>2</th>\n",
       "      <td>1973-01-04</td>\n",
       "      <td>8.00</td>\n",
       "    </tr>\n",
       "    <tr>\n",
       "      <th>3</th>\n",
       "      <td>1973-01-05</td>\n",
       "      <td>8.01</td>\n",
       "    </tr>\n",
       "    <tr>\n",
       "      <th>4</th>\n",
       "      <td>1973-01-08</td>\n",
       "      <td>8.00</td>\n",
       "    </tr>\n",
       "  </tbody>\n",
       "</table>\n",
       "</div>"
      ],
      "text/plain": [
       "  observation_date  DEXINUS\n",
       "0       1973-01-02     8.02\n",
       "1       1973-01-03     8.02\n",
       "2       1973-01-04     8.00\n",
       "3       1973-01-05     8.01\n",
       "4       1973-01-08     8.00"
      ]
     },
     "execution_count": 3,
     "metadata": {},
     "output_type": "execute_result"
    }
   ],
   "source": [
    "#Copy Data\n",
    "df = inrusd.copy()\n",
    "df.head()"
   ]
  },
  {
   "cell_type": "markdown",
   "id": "22c0a3b0",
   "metadata": {},
   "source": [
    "#### Shape"
   ]
  },
  {
   "cell_type": "code",
   "execution_count": 4,
   "id": "5c3b96bb",
   "metadata": {},
   "outputs": [
    {
     "data": {
      "text/plain": [
       "(12649, 2)"
      ]
     },
     "execution_count": 4,
     "metadata": {},
     "output_type": "execute_result"
    }
   ],
   "source": [
    "df.shape"
   ]
  },
  {
   "cell_type": "markdown",
   "id": "3144f897",
   "metadata": {},
   "source": [
    "#### Renaming "
   ]
  },
  {
   "cell_type": "code",
   "execution_count": 5,
   "id": "d6b9a1ae",
   "metadata": {},
   "outputs": [],
   "source": [
    "#renaming the date and rate\n",
    "data = df[['observation_date', 'DEXINUS']]\n",
    "data.columns = ['date', 'rate']"
   ]
  },
  {
   "cell_type": "code",
   "execution_count": 6,
   "id": "7eb777c0",
   "metadata": {},
   "outputs": [
    {
     "data": {
      "text/html": [
       "<div>\n",
       "<style scoped>\n",
       "    .dataframe tbody tr th:only-of-type {\n",
       "        vertical-align: middle;\n",
       "    }\n",
       "\n",
       "    .dataframe tbody tr th {\n",
       "        vertical-align: top;\n",
       "    }\n",
       "\n",
       "    .dataframe thead th {\n",
       "        text-align: right;\n",
       "    }\n",
       "</style>\n",
       "<table border=\"1\" class=\"dataframe\">\n",
       "  <thead>\n",
       "    <tr style=\"text-align: right;\">\n",
       "      <th></th>\n",
       "      <th>date</th>\n",
       "      <th>rate</th>\n",
       "    </tr>\n",
       "  </thead>\n",
       "  <tbody>\n",
       "    <tr>\n",
       "      <th>0</th>\n",
       "      <td>1973-01-02</td>\n",
       "      <td>8.02</td>\n",
       "    </tr>\n",
       "    <tr>\n",
       "      <th>1</th>\n",
       "      <td>1973-01-03</td>\n",
       "      <td>8.02</td>\n",
       "    </tr>\n",
       "    <tr>\n",
       "      <th>2</th>\n",
       "      <td>1973-01-04</td>\n",
       "      <td>8.00</td>\n",
       "    </tr>\n",
       "    <tr>\n",
       "      <th>3</th>\n",
       "      <td>1973-01-05</td>\n",
       "      <td>8.01</td>\n",
       "    </tr>\n",
       "    <tr>\n",
       "      <th>4</th>\n",
       "      <td>1973-01-08</td>\n",
       "      <td>8.00</td>\n",
       "    </tr>\n",
       "  </tbody>\n",
       "</table>\n",
       "</div>"
      ],
      "text/plain": [
       "        date  rate\n",
       "0 1973-01-02  8.02\n",
       "1 1973-01-03  8.02\n",
       "2 1973-01-04  8.00\n",
       "3 1973-01-05  8.01\n",
       "4 1973-01-08  8.00"
      ]
     },
     "execution_count": 6,
     "metadata": {},
     "output_type": "execute_result"
    }
   ],
   "source": [
    "data.head()"
   ]
  },
  {
   "cell_type": "markdown",
   "id": "985e8262",
   "metadata": {},
   "source": [
    "#### info"
   ]
  },
  {
   "cell_type": "code",
   "execution_count": 7,
   "id": "af512782",
   "metadata": {},
   "outputs": [
    {
     "name": "stdout",
     "output_type": "stream",
     "text": [
      "<class 'pandas.core.frame.DataFrame'>\n",
      "RangeIndex: 12649 entries, 0 to 12648\n",
      "Data columns (total 2 columns):\n",
      " #   Column  Non-Null Count  Dtype         \n",
      "---  ------  --------------  -----         \n",
      " 0   date    12649 non-null  datetime64[ns]\n",
      " 1   rate    12155 non-null  float64       \n",
      "dtypes: datetime64[ns](1), float64(1)\n",
      "memory usage: 197.8 KB\n"
     ]
    }
   ],
   "source": [
    "data.info()"
   ]
  },
  {
   "cell_type": "markdown",
   "id": "46a4494c",
   "metadata": {},
   "source": [
    "Converting rates to numeric"
   ]
  },
  {
   "cell_type": "code",
   "execution_count": 8,
   "id": "5ff0f85f",
   "metadata": {},
   "outputs": [],
   "source": [
    "data['rate'] = pd.to_numeric(data.rate)"
   ]
  },
  {
   "cell_type": "markdown",
   "id": "e3c64864",
   "metadata": {},
   "source": [
    "Sorting Date in Ascending order"
   ]
  },
  {
   "cell_type": "code",
   "execution_count": 9,
   "id": "07c57e08",
   "metadata": {},
   "outputs": [],
   "source": [
    "data = data.sort_values('date', ascending=True)"
   ]
  },
  {
   "cell_type": "markdown",
   "id": "c64b4c42",
   "metadata": {},
   "source": [
    "#### Descriptive Stats"
   ]
  },
  {
   "cell_type": "code",
   "execution_count": 10,
   "id": "55c55a50",
   "metadata": {},
   "outputs": [
    {
     "data": {
      "text/plain": [
       "count    12155.000000\n",
       "mean        34.206133\n",
       "std         21.089190\n",
       "min          7.190000\n",
       "25%         12.075000\n",
       "50%         35.890000\n",
       "75%         47.650000\n",
       "max         76.950000\n",
       "Name: rate, dtype: float64"
      ]
     },
     "execution_count": 10,
     "metadata": {},
     "output_type": "execute_result"
    }
   ],
   "source": [
    "data.rate.describe()"
   ]
  },
  {
   "cell_type": "markdown",
   "id": "6e8a65c4",
   "metadata": {},
   "source": [
    "#### Checking Null Values"
   ]
  },
  {
   "cell_type": "code",
   "execution_count": 11,
   "id": "cb708c8c",
   "metadata": {},
   "outputs": [
    {
     "data": {
      "text/plain": [
       "date      0\n",
       "rate    494\n",
       "dtype: int64"
      ]
     },
     "execution_count": 11,
     "metadata": {},
     "output_type": "execute_result"
    }
   ],
   "source": [
    "data.isnull().sum()"
   ]
  },
  {
   "cell_type": "markdown",
   "id": "2051d260",
   "metadata": {},
   "source": [
    "Forward Filling Null Values"
   ]
  },
  {
   "cell_type": "code",
   "execution_count": 12,
   "id": "556b5ddc",
   "metadata": {},
   "outputs": [],
   "source": [
    "#Forward Filling\n",
    "data.fillna(method='ffill', inplace=True)"
   ]
  },
  {
   "cell_type": "code",
   "execution_count": 13,
   "id": "bfa7ffb2",
   "metadata": {},
   "outputs": [
    {
     "data": {
      "text/plain": [
       "date    0\n",
       "rate    0\n",
       "dtype: int64"
      ]
     },
     "execution_count": 13,
     "metadata": {},
     "output_type": "execute_result"
    }
   ],
   "source": [
    "data.isnull().sum()"
   ]
  },
  {
   "cell_type": "markdown",
   "id": "f09867e7",
   "metadata": {},
   "source": [
    "Convert datatype int to float"
   ]
  },
  {
   "cell_type": "code",
   "execution_count": 14,
   "id": "f59c4a2e",
   "metadata": {},
   "outputs": [],
   "source": [
    "#transformation of values to float\n",
    "data['rate'] = pd.to_numeric(data['rate'], downcast=\"float\")"
   ]
  },
  {
   "cell_type": "markdown",
   "id": "3d9a1db7",
   "metadata": {},
   "source": [
    "#### info"
   ]
  },
  {
   "cell_type": "code",
   "execution_count": 15,
   "id": "3fe6312b",
   "metadata": {},
   "outputs": [
    {
     "name": "stdout",
     "output_type": "stream",
     "text": [
      "<class 'pandas.core.frame.DataFrame'>\n",
      "Int64Index: 12649 entries, 0 to 12648\n",
      "Data columns (total 2 columns):\n",
      " #   Column  Non-Null Count  Dtype         \n",
      "---  ------  --------------  -----         \n",
      " 0   date    12649 non-null  datetime64[ns]\n",
      " 1   rate    12649 non-null  float32       \n",
      "dtypes: datetime64[ns](1), float32(1)\n",
      "memory usage: 247.1 KB\n"
     ]
    }
   ],
   "source": [
    "data.info()"
   ]
  },
  {
   "cell_type": "markdown",
   "id": "bcaf068c",
   "metadata": {},
   "source": [
    "#### Checking Duplicates"
   ]
  },
  {
   "cell_type": "code",
   "execution_count": 16,
   "id": "92a44ef9",
   "metadata": {},
   "outputs": [
    {
     "data": {
      "text/plain": [
       "0"
      ]
     },
     "execution_count": 16,
     "metadata": {},
     "output_type": "execute_result"
    }
   ],
   "source": [
    "data.duplicated().sum()"
   ]
  },
  {
   "cell_type": "markdown",
   "id": "0a7d88bf",
   "metadata": {},
   "source": [
    "No Duplicates found"
   ]
  },
  {
   "cell_type": "markdown",
   "id": "d97300ea",
   "metadata": {},
   "source": [
    "### Final Data"
   ]
  },
  {
   "cell_type": "code",
   "execution_count": 17,
   "id": "21065395",
   "metadata": {},
   "outputs": [],
   "source": [
    "final_data = data.copy()"
   ]
  },
  {
   "cell_type": "code",
   "execution_count": 18,
   "id": "d283bee7",
   "metadata": {},
   "outputs": [
    {
     "data": {
      "text/html": [
       "<div>\n",
       "<style scoped>\n",
       "    .dataframe tbody tr th:only-of-type {\n",
       "        vertical-align: middle;\n",
       "    }\n",
       "\n",
       "    .dataframe tbody tr th {\n",
       "        vertical-align: top;\n",
       "    }\n",
       "\n",
       "    .dataframe thead th {\n",
       "        text-align: right;\n",
       "    }\n",
       "</style>\n",
       "<table border=\"1\" class=\"dataframe\">\n",
       "  <thead>\n",
       "    <tr style=\"text-align: right;\">\n",
       "      <th></th>\n",
       "      <th>date</th>\n",
       "      <th>rate</th>\n",
       "    </tr>\n",
       "  </thead>\n",
       "  <tbody>\n",
       "    <tr>\n",
       "      <th>0</th>\n",
       "      <td>1973-01-02</td>\n",
       "      <td>8.02</td>\n",
       "    </tr>\n",
       "    <tr>\n",
       "      <th>1</th>\n",
       "      <td>1973-01-03</td>\n",
       "      <td>8.02</td>\n",
       "    </tr>\n",
       "    <tr>\n",
       "      <th>2</th>\n",
       "      <td>1973-01-04</td>\n",
       "      <td>8.00</td>\n",
       "    </tr>\n",
       "    <tr>\n",
       "      <th>3</th>\n",
       "      <td>1973-01-05</td>\n",
       "      <td>8.01</td>\n",
       "    </tr>\n",
       "    <tr>\n",
       "      <th>4</th>\n",
       "      <td>1973-01-08</td>\n",
       "      <td>8.00</td>\n",
       "    </tr>\n",
       "  </tbody>\n",
       "</table>\n",
       "</div>"
      ],
      "text/plain": [
       "        date  rate\n",
       "0 1973-01-02  8.02\n",
       "1 1973-01-03  8.02\n",
       "2 1973-01-04  8.00\n",
       "3 1973-01-05  8.01\n",
       "4 1973-01-08  8.00"
      ]
     },
     "execution_count": 18,
     "metadata": {},
     "output_type": "execute_result"
    }
   ],
   "source": [
    "final_data.head()"
   ]
  },
  {
   "cell_type": "code",
   "execution_count": 19,
   "id": "f6bd6a34",
   "metadata": {},
   "outputs": [],
   "source": [
    "data1 = data.copy()"
   ]
  },
  {
   "cell_type": "code",
   "execution_count": 20,
   "id": "a9d5173d",
   "metadata": {},
   "outputs": [],
   "source": [
    "#data1 = data.set_index('date')"
   ]
  },
  {
   "cell_type": "code",
   "execution_count": 21,
   "id": "604c3887",
   "metadata": {},
   "outputs": [
    {
     "data": {
      "text/html": [
       "<div>\n",
       "<style scoped>\n",
       "    .dataframe tbody tr th:only-of-type {\n",
       "        vertical-align: middle;\n",
       "    }\n",
       "\n",
       "    .dataframe tbody tr th {\n",
       "        vertical-align: top;\n",
       "    }\n",
       "\n",
       "    .dataframe thead th {\n",
       "        text-align: right;\n",
       "    }\n",
       "</style>\n",
       "<table border=\"1\" class=\"dataframe\">\n",
       "  <thead>\n",
       "    <tr style=\"text-align: right;\">\n",
       "      <th></th>\n",
       "      <th>date</th>\n",
       "      <th>rate</th>\n",
       "    </tr>\n",
       "  </thead>\n",
       "  <tbody>\n",
       "    <tr>\n",
       "      <th>0</th>\n",
       "      <td>1973-01-02</td>\n",
       "      <td>8.02</td>\n",
       "    </tr>\n",
       "    <tr>\n",
       "      <th>1</th>\n",
       "      <td>1973-01-03</td>\n",
       "      <td>8.02</td>\n",
       "    </tr>\n",
       "    <tr>\n",
       "      <th>2</th>\n",
       "      <td>1973-01-04</td>\n",
       "      <td>8.00</td>\n",
       "    </tr>\n",
       "    <tr>\n",
       "      <th>3</th>\n",
       "      <td>1973-01-05</td>\n",
       "      <td>8.01</td>\n",
       "    </tr>\n",
       "    <tr>\n",
       "      <th>4</th>\n",
       "      <td>1973-01-08</td>\n",
       "      <td>8.00</td>\n",
       "    </tr>\n",
       "  </tbody>\n",
       "</table>\n",
       "</div>"
      ],
      "text/plain": [
       "        date  rate\n",
       "0 1973-01-02  8.02\n",
       "1 1973-01-03  8.02\n",
       "2 1973-01-04  8.00\n",
       "3 1973-01-05  8.01\n",
       "4 1973-01-08  8.00"
      ]
     },
     "execution_count": 21,
     "metadata": {},
     "output_type": "execute_result"
    }
   ],
   "source": [
    "data1.head()"
   ]
  },
  {
   "cell_type": "code",
   "execution_count": 22,
   "id": "677c44a0",
   "metadata": {},
   "outputs": [],
   "source": [
    "final_data1 = data1.copy()"
   ]
  },
  {
   "cell_type": "markdown",
   "id": "610e8994",
   "metadata": {},
   "source": [
    "### Segregating Years, Months, Day"
   ]
  },
  {
   "cell_type": "code",
   "execution_count": 23,
   "id": "36b6d62c",
   "metadata": {},
   "outputs": [],
   "source": [
    "#copy data \n",
    "df1 = final_data.copy()"
   ]
  },
  {
   "cell_type": "code",
   "execution_count": 24,
   "id": "8dc323ac",
   "metadata": {},
   "outputs": [],
   "source": [
    "#if date is not set to index then use \n",
    "#Years\n",
    "df1['Year']= [i.year for i in df1['date']]\n",
    "#Months\n",
    "df1['Month']= [i.month for i in df1['date']]\n",
    "#Days\n",
    "df1['Day']= [i.day for i in df1['date']]"
   ]
  },
  {
   "cell_type": "code",
   "execution_count": 25,
   "id": "d4d13148",
   "metadata": {},
   "outputs": [],
   "source": [
    "#Date is set to index\n",
    "#Years\n",
    "#df1['Year']= df1.index.year\n",
    "#Months\n",
    "#df1['Month']= df1.index.month\n",
    "#Days\n",
    "#df1['Day']= df1.index.day"
   ]
  },
  {
   "cell_type": "code",
   "execution_count": 26,
   "id": "99d0a126",
   "metadata": {},
   "outputs": [
    {
     "data": {
      "text/html": [
       "<div>\n",
       "<style scoped>\n",
       "    .dataframe tbody tr th:only-of-type {\n",
       "        vertical-align: middle;\n",
       "    }\n",
       "\n",
       "    .dataframe tbody tr th {\n",
       "        vertical-align: top;\n",
       "    }\n",
       "\n",
       "    .dataframe thead th {\n",
       "        text-align: right;\n",
       "    }\n",
       "</style>\n",
       "<table border=\"1\" class=\"dataframe\">\n",
       "  <thead>\n",
       "    <tr style=\"text-align: right;\">\n",
       "      <th></th>\n",
       "      <th>date</th>\n",
       "      <th>rate</th>\n",
       "      <th>Year</th>\n",
       "      <th>Month</th>\n",
       "      <th>Day</th>\n",
       "    </tr>\n",
       "  </thead>\n",
       "  <tbody>\n",
       "    <tr>\n",
       "      <th>0</th>\n",
       "      <td>1973-01-02</td>\n",
       "      <td>8.02</td>\n",
       "      <td>1973</td>\n",
       "      <td>1</td>\n",
       "      <td>2</td>\n",
       "    </tr>\n",
       "    <tr>\n",
       "      <th>1</th>\n",
       "      <td>1973-01-03</td>\n",
       "      <td>8.02</td>\n",
       "      <td>1973</td>\n",
       "      <td>1</td>\n",
       "      <td>3</td>\n",
       "    </tr>\n",
       "    <tr>\n",
       "      <th>2</th>\n",
       "      <td>1973-01-04</td>\n",
       "      <td>8.00</td>\n",
       "      <td>1973</td>\n",
       "      <td>1</td>\n",
       "      <td>4</td>\n",
       "    </tr>\n",
       "    <tr>\n",
       "      <th>3</th>\n",
       "      <td>1973-01-05</td>\n",
       "      <td>8.01</td>\n",
       "      <td>1973</td>\n",
       "      <td>1</td>\n",
       "      <td>5</td>\n",
       "    </tr>\n",
       "    <tr>\n",
       "      <th>4</th>\n",
       "      <td>1973-01-08</td>\n",
       "      <td>8.00</td>\n",
       "      <td>1973</td>\n",
       "      <td>1</td>\n",
       "      <td>8</td>\n",
       "    </tr>\n",
       "  </tbody>\n",
       "</table>\n",
       "</div>"
      ],
      "text/plain": [
       "        date  rate  Year  Month  Day\n",
       "0 1973-01-02  8.02  1973      1    2\n",
       "1 1973-01-03  8.02  1973      1    3\n",
       "2 1973-01-04  8.00  1973      1    4\n",
       "3 1973-01-05  8.01  1973      1    5\n",
       "4 1973-01-08  8.00  1973      1    8"
      ]
     },
     "execution_count": 26,
     "metadata": {},
     "output_type": "execute_result"
    }
   ],
   "source": [
    "df1.head()"
   ]
  },
  {
   "cell_type": "code",
   "execution_count": 27,
   "id": "ae310fda",
   "metadata": {},
   "outputs": [
    {
     "name": "stdout",
     "output_type": "stream",
     "text": [
      "<class 'pandas.core.frame.DataFrame'>\n",
      "Int64Index: 12649 entries, 0 to 12648\n",
      "Data columns (total 5 columns):\n",
      " #   Column  Non-Null Count  Dtype         \n",
      "---  ------  --------------  -----         \n",
      " 0   date    12649 non-null  datetime64[ns]\n",
      " 1   rate    12649 non-null  float32       \n",
      " 2   Year    12649 non-null  int64         \n",
      " 3   Month   12649 non-null  int64         \n",
      " 4   Day     12649 non-null  int64         \n",
      "dtypes: datetime64[ns](1), float32(1), int64(3)\n",
      "memory usage: 543.5 KB\n"
     ]
    }
   ],
   "source": [
    "df1.info()"
   ]
  },
  {
   "cell_type": "markdown",
   "id": "a20ed95a",
   "metadata": {},
   "source": [
    "## Visialization"
   ]
  },
  {
   "cell_type": "markdown",
   "id": "d24da298",
   "metadata": {},
   "source": [
    "### Line Plot"
   ]
  },
  {
   "cell_type": "code",
   "execution_count": 28,
   "id": "06d58efb",
   "metadata": {},
   "outputs": [
    {
     "data": {
      "image/png": "[encoded data removed]",
      "text/plain": [
       "<Figure size 1800x800 with 1 Axes>"
      ]
     },
     "metadata": {
      "needs_background": "light"
     },
     "output_type": "display_data"
    }
   ],
   "source": [
    "#Line Plot\n",
    "plt.figure(figsize =(18,8),dpi=100)\n",
    "df1.rate.plot()\n",
    "plt.ylabel('Spot exchange rate, US \\$ into INR')\n",
    "plt.xlabel('Year')\n",
    "plt.title('INR/USD exchange rate for the years 1973-01-02 to 2021-06-25')\n",
    "plt.show()"
   ]
  },
  {
   "cell_type": "markdown",
   "id": "6be77639",
   "metadata": {},
   "source": [
    "### Line Plot on 10 years interval"
   ]
  },
  {
   "cell_type": "code",
   "execution_count": 29,
   "id": "340fb13d",
   "metadata": {},
   "outputs": [
    {
     "data": {
      "image/png": "[encoded data removed]",
      "text/plain": [
       "<Figure size 1080x720 with 5 Axes>"
      ]
     },
     "metadata": {
      "needs_background": "light"
     },
     "output_type": "display_data"
    }
   ],
   "source": [
    "fig, ax = plt.subplots(5, 1, figsize=(15, 10), sharey=True)\n",
    "df1.loc['1973':'1982']['rate'].plot(xlabel=\"1973-1982\",\n",
    "                                                stacked=True,\n",
    "                                                ax=ax[0],\n",
    "                                                grid=True)\n",
    "df1.loc['1983':'1992']['rate'].plot(xlabel=\"1983-1992\",\n",
    "                                                stacked=True,\n",
    "                                                ax=ax[1],\n",
    "                                                grid=True)\n",
    "df1.loc['1993':'2002']['rate'].plot(xlabel=\"1993-2002\",\n",
    "                                                ax=ax[2],\n",
    "                                                grid=True)\n",
    "df1.loc['2003':'2012']['rate'].plot(xlabel=\"2003-2012\",\n",
    "                                                ax=ax[3],\n",
    "                                                grid=True)\n",
    "df1.loc['2013':'2022']['rate'].plot(xlabel=\"2013-2021\",\n",
    "                                                ax=ax[4],\n",
    "                                                grid=True)\n",
    "plt.tight_layout()\n",
    "plt.show()"
   ]
  },
  {
   "cell_type": "markdown",
   "id": "648b4a97",
   "metadata": {},
   "source": [
    "### Box Plot"
   ]
  },
  {
   "cell_type": "code",
   "execution_count": 30,
   "id": "917a4d44",
   "metadata": {},
   "outputs": [
    {
     "data": {
      "image/png": "[encoded data removed]",
      "text/plain": [
       "<Figure size 1296x576 with 49 Axes>"
      ]
     },
     "metadata": {
      "needs_background": "light"
     },
     "output_type": "display_data"
    }
   ],
   "source": [
    "box1 = df1.groupby('Year')\n",
    "\n",
    "years = list(np.unique(df1.Year))\n",
    "\n",
    "fig, ax = plt.subplots(1, len(years), figsize=(18, 8), sharey=True)\n",
    "for i, year in enumerate(years):\n",
    "    X = box1.get_group(year)\n",
    "    # subplots=True,layout=(1,len(A)),figsize=(18,8),use_index = True,\n",
    "    X.plot(y='rate',\n",
    "           kind='box',\n",
    "           ax=ax[i],\n",
    "           label=year,\n",
    "           rot=90,\n",
    "           ylim=(5, 85),\n",
    "           sharey=True)\n",
    "    plt.tight_layout\n",
    "#plt.title('box plot');\n",
    "plt.show()"
   ]
  },
  {
   "cell_type": "markdown",
   "id": "2f1e76fd",
   "metadata": {},
   "source": [
    "### Box Plot with 5 years interval"
   ]
  },
  {
   "cell_type": "code",
   "execution_count": 31,
   "id": "9776f965",
   "metadata": {},
   "outputs": [
    {
     "data": {
      "image/png": "[encoded data removed]",
      "text/plain": [
       "<Figure size 1080x576 with 10 Axes>"
      ]
     },
     "metadata": {
      "needs_background": "light"
     },
     "output_type": "display_data"
    }
   ],
   "source": [
    "fig, ax = plt.subplots(1, 10, figsize=(15, 8), sharey=True)\n",
    "df1.loc['1973':'1977']['rate'].plot(kind='box',\n",
    "                                                label=\"1973-1977\",\n",
    "                                                stacked=True,\n",
    "                                                ax=ax[0],\n",
    "                                                grid=True)\n",
    "df1.loc['1977':'1982']['rate'].plot(kind='box',\n",
    "                                                label=\"1977-1982\",\n",
    "                                                stacked=True,\n",
    "                                                ax=ax[1],\n",
    "                                                grid=True)\n",
    "df1.loc['1983':'1987']['rate'].plot(kind='box',\n",
    "                                                label=\"1983-1987\",\n",
    "                                                stacked=True,\n",
    "                                                ax=ax[2],\n",
    "                                                grid=True)\n",
    "df1.loc['1988':'1992']['rate'].plot(kind='box',\n",
    "                                                label=\"1988-1992\",\n",
    "                                                stacked=True,\n",
    "                                                ax=ax[3],\n",
    "                                                grid=True)\n",
    "df1.loc['1992':'1997']['rate'].plot(kind='box',\n",
    "                                                label=\"1993-1997\",\n",
    "                                                ax=ax[4],\n",
    "                                                grid=True)\n",
    "df1.loc['1997':'2002']['rate'].plot(kind='box',\n",
    "                                                label=\"1998-2002\",\n",
    "                                                ax=ax[5],\n",
    "                                                grid=True)\n",
    "df1.loc['2003':'2007']['rate'].plot(kind='box',\n",
    "                                                label=\"2003-2007\",\n",
    "                                                ax=ax[6],\n",
    "                                                grid=True)\n",
    "df1.loc['2008':'2012']['rate'].plot(kind='box',\n",
    "                                                label=\"2008-2012\",\n",
    "                                                ax=ax[7],\n",
    "                                                grid=True)\n",
    "df1.loc['2013':'2017']['rate'].plot(kind='box',\n",
    "                                                label=\"2013-2017\",\n",
    "                                                ax=ax[8],\n",
    "                                                grid=True)\n",
    "df1.loc['2018':'2021']['rate'].plot(kind='box',\n",
    "                                                label=\"2018-2021\",\n",
    "                                                ax=ax[9],\n",
    "                                                grid=True)\n",
    "plt.tight_layout()\n",
    "plt.show()"
   ]
  },
  {
   "cell_type": "code",
   "execution_count": null,
   "id": "cbb9cfc4",
   "metadata": {},
   "outputs": [],
   "source": []
  },
  {
   "cell_type": "markdown",
   "id": "1b61604c",
   "metadata": {},
   "source": [
    "## PyCaret"
   ]
  },
  {
   "cell_type": "code",
   "execution_count": null,
   "id": "9142e31d",
   "metadata": {},
   "outputs": [],
   "source": [
    "#Adding Series into Dataframe\n",
    "df1['Series'] = np.arange(1,len(df1)+1)"
   ]
  },
  {
   "cell_type": "code",
   "execution_count": null,
   "id": "87f7fb53",
   "metadata": {},
   "outputs": [],
   "source": [
    "df1.head(1)"
   ]
  },
  {
   "cell_type": "code",
   "execution_count": null,
   "id": "d9f8c503",
   "metadata": {},
   "outputs": [],
   "source": [
    "#Droping date\n",
    "df1.drop(['date'], axis=1, inplace=True)"
   ]
  },
  {
   "cell_type": "markdown",
   "id": "015bbb6c",
   "metadata": {},
   "source": [
    "### Train Test Split"
   ]
  },
  {
   "cell_type": "markdown",
   "id": "85c0c62e",
   "metadata": {},
   "source": [
    "#### Spliting Data"
   ]
  },
  {
   "cell_type": "code",
   "execution_count": null,
   "id": "9c7934bd",
   "metadata": {},
   "outputs": [],
   "source": [
    "df1_test=df1[df1['Year']<1985]"
   ]
  },
  {
   "cell_type": "code",
   "execution_count": null,
   "id": "a7c11a4a",
   "metadata": {},
   "outputs": [],
   "source": [
    "df1_train=df1[df1['Year']>=1985]"
   ]
  },
  {
   "cell_type": "code",
   "execution_count": null,
   "id": "66b38008",
   "metadata": {},
   "outputs": [],
   "source": [
    "print(\"Train:\",df1_train.shape)\n",
    "print('Test:',df1_test.shape)"
   ]
  },
  {
   "cell_type": "code",
   "execution_count": null,
   "id": "702ec00a",
   "metadata": {},
   "outputs": [],
   "source": [
    "#Library\n",
    "from pycaret.regression import *"
   ]
  },
  {
   "cell_type": "code",
   "execution_count": null,
   "id": "fbdb605e",
   "metadata": {},
   "outputs": [],
   "source": [
    "s = setup(data = df1_train, test_data = df1_test, target = 'rate', fold_strategy = 'timeseries', numeric_features = ['Day', 'Series'], fold = 3, transform_target = True, session_id = 123)"
   ]
  },
  {
   "cell_type": "code",
   "execution_count": null,
   "id": "cb8bd97d",
   "metadata": {},
   "outputs": [],
   "source": [
    "best_pycaret = compare_models(sort = 'MAE')"
   ]
  },
  {
   "cell_type": "code",
   "execution_count": null,
   "id": "fa6f47fc",
   "metadata": {},
   "outputs": [],
   "source": [
    "prediction_holdout = predict_model(best_pycaret);"
   ]
  },
  {
   "cell_type": "code",
   "execution_count": null,
   "id": "eaa9f48e",
   "metadata": {},
   "outputs": [],
   "source": [
    "predictions = predict_model(best_pycaret, data=df1)\n",
    "predictions"
   ]
  },
  {
   "cell_type": "markdown",
   "id": "d827bc89",
   "metadata": {},
   "source": [
    "## XGBOOST"
   ]
  },
  {
   "cell_type": "code",
   "execution_count": 59,
   "id": "a11b3b55",
   "metadata": {},
   "outputs": [],
   "source": [
    "df2 = final_data.copy()"
   ]
  },
  {
   "cell_type": "code",
   "execution_count": 60,
   "id": "02d0007e",
   "metadata": {},
   "outputs": [
    {
     "data": {
      "text/html": [
       "<div>\n",
       "<style scoped>\n",
       "    .dataframe tbody tr th:only-of-type {\n",
       "        vertical-align: middle;\n",
       "    }\n",
       "\n",
       "    .dataframe tbody tr th {\n",
       "        vertical-align: top;\n",
       "    }\n",
       "\n",
       "    .dataframe thead th {\n",
       "        text-align: right;\n",
       "    }\n",
       "</style>\n",
       "<table border=\"1\" class=\"dataframe\">\n",
       "  <thead>\n",
       "    <tr style=\"text-align: right;\">\n",
       "      <th></th>\n",
       "      <th>date</th>\n",
       "      <th>rate</th>\n",
       "    </tr>\n",
       "  </thead>\n",
       "  <tbody>\n",
       "    <tr>\n",
       "      <th>0</th>\n",
       "      <td>1973-01-02</td>\n",
       "      <td>8.02</td>\n",
       "    </tr>\n",
       "  </tbody>\n",
       "</table>\n",
       "</div>"
      ],
      "text/plain": [
       "        date  rate\n",
       "0 1973-01-02  8.02"
      ]
     },
     "execution_count": 60,
     "metadata": {},
     "output_type": "execute_result"
    }
   ],
   "source": [
    "df2.head(1)"
   ]
  },
  {
   "cell_type": "markdown",
   "id": "777d31ef",
   "metadata": {},
   "source": [
    "### Feature Engineering"
   ]
  },
  {
   "cell_type": "code",
   "execution_count": 61,
   "id": "08446d0c",
   "metadata": {},
   "outputs": [],
   "source": [
    "#extract the date feature\n",
    "df2['day'] = df2.date.dt.day\n",
    "df2['dayofweek'] = df2.date.dt.dayofweek\n",
    "df2['dayofyear'] = df2.date.dt.dayofyear\n",
    "df2['week'] = df2.date.dt.week\n",
    "df2['month'] = df2.date.dt.month\n",
    "df2['year'] = df2.date.dt.year"
   ]
  },
  {
   "cell_type": "code",
   "execution_count": 63,
   "id": "be646a64",
   "metadata": {},
   "outputs": [
    {
     "data": {
      "text/html": [
       "<div>\n",
       "<style scoped>\n",
       "    .dataframe tbody tr th:only-of-type {\n",
       "        vertical-align: middle;\n",
       "    }\n",
       "\n",
       "    .dataframe tbody tr th {\n",
       "        vertical-align: top;\n",
       "    }\n",
       "\n",
       "    .dataframe thead th {\n",
       "        text-align: right;\n",
       "    }\n",
       "</style>\n",
       "<table border=\"1\" class=\"dataframe\">\n",
       "  <thead>\n",
       "    <tr style=\"text-align: right;\">\n",
       "      <th></th>\n",
       "      <th>date</th>\n",
       "      <th>rate</th>\n",
       "      <th>day</th>\n",
       "      <th>dayofweek</th>\n",
       "      <th>dayofyear</th>\n",
       "      <th>week</th>\n",
       "      <th>month</th>\n",
       "      <th>year</th>\n",
       "    </tr>\n",
       "  </thead>\n",
       "  <tbody>\n",
       "    <tr>\n",
       "      <th>0</th>\n",
       "      <td>1973-01-02</td>\n",
       "      <td>8.02</td>\n",
       "      <td>2</td>\n",
       "      <td>1</td>\n",
       "      <td>2</td>\n",
       "      <td>1</td>\n",
       "      <td>1</td>\n",
       "      <td>1973</td>\n",
       "    </tr>\n",
       "    <tr>\n",
       "      <th>1</th>\n",
       "      <td>1973-01-03</td>\n",
       "      <td>8.02</td>\n",
       "      <td>3</td>\n",
       "      <td>2</td>\n",
       "      <td>3</td>\n",
       "      <td>1</td>\n",
       "      <td>1</td>\n",
       "      <td>1973</td>\n",
       "    </tr>\n",
       "  </tbody>\n",
       "</table>\n",
       "</div>"
      ],
      "text/plain": [
       "        date  rate  day  dayofweek  dayofyear  week  month  year\n",
       "0 1973-01-02  8.02    2          1          2     1      1  1973\n",
       "1 1973-01-03  8.02    3          2          3     1      1  1973"
      ]
     },
     "execution_count": 63,
     "metadata": {},
     "output_type": "execute_result"
    }
   ],
   "source": [
    "df2.head(2)"
   ]
  },
  {
   "cell_type": "code",
   "execution_count": 64,
   "id": "215fde00",
   "metadata": {},
   "outputs": [],
   "source": [
    "#add lag feature\n",
    "for i in range(1,8):\n",
    "    df2['lag'+str(i)] = df2.rate.shift(i).fillna(0)"
   ]
  },
  {
   "cell_type": "code",
   "execution_count": 65,
   "id": "b11672f5",
   "metadata": {},
   "outputs": [],
   "source": [
    "#drop the date feature\n",
    "df2.drop('date', axis=1, inplace=True)"
   ]
  },
  {
   "cell_type": "code",
   "execution_count": 66,
   "id": "415e45cd",
   "metadata": {},
   "outputs": [
    {
     "data": {
      "text/html": [
       "<div>\n",
       "<style scoped>\n",
       "    .dataframe tbody tr th:only-of-type {\n",
       "        vertical-align: middle;\n",
       "    }\n",
       "\n",
       "    .dataframe tbody tr th {\n",
       "        vertical-align: top;\n",
       "    }\n",
       "\n",
       "    .dataframe thead th {\n",
       "        text-align: right;\n",
       "    }\n",
       "</style>\n",
       "<table border=\"1\" class=\"dataframe\">\n",
       "  <thead>\n",
       "    <tr style=\"text-align: right;\">\n",
       "      <th></th>\n",
       "      <th>rate</th>\n",
       "      <th>day</th>\n",
       "      <th>dayofweek</th>\n",
       "      <th>dayofyear</th>\n",
       "      <th>week</th>\n",
       "      <th>month</th>\n",
       "      <th>year</th>\n",
       "      <th>lag1</th>\n",
       "      <th>lag2</th>\n",
       "      <th>lag3</th>\n",
       "      <th>lag4</th>\n",
       "      <th>lag5</th>\n",
       "      <th>lag6</th>\n",
       "      <th>lag7</th>\n",
       "    </tr>\n",
       "  </thead>\n",
       "  <tbody>\n",
       "    <tr>\n",
       "      <th>0</th>\n",
       "      <td>8.02</td>\n",
       "      <td>2</td>\n",
       "      <td>1</td>\n",
       "      <td>2</td>\n",
       "      <td>1</td>\n",
       "      <td>1</td>\n",
       "      <td>1973</td>\n",
       "      <td>0.00</td>\n",
       "      <td>0.00</td>\n",
       "      <td>0.00</td>\n",
       "      <td>0.00</td>\n",
       "      <td>0.00</td>\n",
       "      <td>0.00</td>\n",
       "      <td>0.0</td>\n",
       "    </tr>\n",
       "    <tr>\n",
       "      <th>1</th>\n",
       "      <td>8.02</td>\n",
       "      <td>3</td>\n",
       "      <td>2</td>\n",
       "      <td>3</td>\n",
       "      <td>1</td>\n",
       "      <td>1</td>\n",
       "      <td>1973</td>\n",
       "      <td>8.02</td>\n",
       "      <td>0.00</td>\n",
       "      <td>0.00</td>\n",
       "      <td>0.00</td>\n",
       "      <td>0.00</td>\n",
       "      <td>0.00</td>\n",
       "      <td>0.0</td>\n",
       "    </tr>\n",
       "    <tr>\n",
       "      <th>2</th>\n",
       "      <td>8.00</td>\n",
       "      <td>4</td>\n",
       "      <td>3</td>\n",
       "      <td>4</td>\n",
       "      <td>1</td>\n",
       "      <td>1</td>\n",
       "      <td>1973</td>\n",
       "      <td>8.02</td>\n",
       "      <td>8.02</td>\n",
       "      <td>0.00</td>\n",
       "      <td>0.00</td>\n",
       "      <td>0.00</td>\n",
       "      <td>0.00</td>\n",
       "      <td>0.0</td>\n",
       "    </tr>\n",
       "    <tr>\n",
       "      <th>3</th>\n",
       "      <td>8.01</td>\n",
       "      <td>5</td>\n",
       "      <td>4</td>\n",
       "      <td>5</td>\n",
       "      <td>1</td>\n",
       "      <td>1</td>\n",
       "      <td>1973</td>\n",
       "      <td>8.00</td>\n",
       "      <td>8.02</td>\n",
       "      <td>8.02</td>\n",
       "      <td>0.00</td>\n",
       "      <td>0.00</td>\n",
       "      <td>0.00</td>\n",
       "      <td>0.0</td>\n",
       "    </tr>\n",
       "    <tr>\n",
       "      <th>4</th>\n",
       "      <td>8.00</td>\n",
       "      <td>8</td>\n",
       "      <td>0</td>\n",
       "      <td>8</td>\n",
       "      <td>2</td>\n",
       "      <td>1</td>\n",
       "      <td>1973</td>\n",
       "      <td>8.01</td>\n",
       "      <td>8.00</td>\n",
       "      <td>8.02</td>\n",
       "      <td>8.02</td>\n",
       "      <td>0.00</td>\n",
       "      <td>0.00</td>\n",
       "      <td>0.0</td>\n",
       "    </tr>\n",
       "    <tr>\n",
       "      <th>5</th>\n",
       "      <td>8.00</td>\n",
       "      <td>9</td>\n",
       "      <td>1</td>\n",
       "      <td>9</td>\n",
       "      <td>2</td>\n",
       "      <td>1</td>\n",
       "      <td>1973</td>\n",
       "      <td>8.00</td>\n",
       "      <td>8.01</td>\n",
       "      <td>8.00</td>\n",
       "      <td>8.02</td>\n",
       "      <td>8.02</td>\n",
       "      <td>0.00</td>\n",
       "      <td>0.0</td>\n",
       "    </tr>\n",
       "    <tr>\n",
       "      <th>6</th>\n",
       "      <td>8.00</td>\n",
       "      <td>10</td>\n",
       "      <td>2</td>\n",
       "      <td>10</td>\n",
       "      <td>2</td>\n",
       "      <td>1</td>\n",
       "      <td>1973</td>\n",
       "      <td>8.00</td>\n",
       "      <td>8.00</td>\n",
       "      <td>8.01</td>\n",
       "      <td>8.00</td>\n",
       "      <td>8.02</td>\n",
       "      <td>8.02</td>\n",
       "      <td>0.0</td>\n",
       "    </tr>\n",
       "  </tbody>\n",
       "</table>\n",
       "</div>"
      ],
      "text/plain": [
       "   rate  day  dayofweek  dayofyear  week  month  year  lag1  lag2  lag3  lag4  \\\n",
       "0  8.02    2          1          2     1      1  1973  0.00  0.00  0.00  0.00   \n",
       "1  8.02    3          2          3     1      1  1973  8.02  0.00  0.00  0.00   \n",
       "2  8.00    4          3          4     1      1  1973  8.02  8.02  0.00  0.00   \n",
       "3  8.01    5          4          5     1      1  1973  8.00  8.02  8.02  0.00   \n",
       "4  8.00    8          0          8     2      1  1973  8.01  8.00  8.02  8.02   \n",
       "5  8.00    9          1          9     2      1  1973  8.00  8.01  8.00  8.02   \n",
       "6  8.00   10          2         10     2      1  1973  8.00  8.00  8.01  8.00   \n",
       "\n",
       "   lag5  lag6  lag7  \n",
       "0  0.00  0.00   0.0  \n",
       "1  0.00  0.00   0.0  \n",
       "2  0.00  0.00   0.0  \n",
       "3  0.00  0.00   0.0  \n",
       "4  0.00  0.00   0.0  \n",
       "5  8.02  0.00   0.0  \n",
       "6  8.02  8.02   0.0  "
      ]
     },
     "execution_count": 66,
     "metadata": {},
     "output_type": "execute_result"
    }
   ],
   "source": [
    "#show new data frame\n",
    "df2.head(7)"
   ]
  },
  {
   "cell_type": "markdown",
   "id": "b515073c",
   "metadata": {},
   "source": [
    "### Split Data"
   ]
  },
  {
   "cell_type": "code",
   "execution_count": 67,
   "id": "bc76e386",
   "metadata": {},
   "outputs": [
    {
     "name": "stdout",
     "output_type": "stream",
     "text": [
      "X_train:  (12619, 13)\n",
      "y_train:  (12619,)\n",
      "X_test:  (30, 13)\n",
      "y_test:  (30,)\n"
     ]
    }
   ],
   "source": [
    "X = df2.drop('rate', axis=1)\n",
    "y = df2.rate\n",
    "\n",
    "X_train, X_test = X[:-30], X[-30:]\n",
    "y_train, y_test = y[:-30], y[-30:]\n",
    "\n",
    "print('X_train: ', X_train.shape)\n",
    "print('y_train: ', y_train.shape)\n",
    "print('X_test: ', X_test.shape)\n",
    "print('y_test: ', y_test.shape)"
   ]
  },
  {
   "cell_type": "code",
   "execution_count": 68,
   "id": "fd9d3998",
   "metadata": {},
   "outputs": [],
   "source": [
    "#Librabies\n",
    "from sklearn.neighbors import KNeighborsClassifier, KNeighborsRegressor\n",
    "import xgboost as xgb\n",
    "from xgboost import XGBRegressor\n",
    "from bayes_opt import BayesianOptimization"
   ]
  },
  {
   "cell_type": "code",
   "execution_count": 69,
   "id": "958db5a7",
   "metadata": {},
   "outputs": [],
   "source": [
    "#convert data to xgb matrix form\n",
    "dtrain = xgb.DMatrix(X_train,label=y_train)\n",
    "dtest = xgb.DMatrix(X_test)"
   ]
  },
  {
   "cell_type": "markdown",
   "id": "e29e2f05",
   "metadata": {},
   "source": [
    "### XGBOOST Baysian Optimization"
   ]
  },
  {
   "cell_type": "code",
   "execution_count": 70,
   "id": "1078b6eb",
   "metadata": {},
   "outputs": [],
   "source": [
    "#bayesian hyper parameter tuning\n",
    "#define the params\n",
    "def xgb_evaluate(max_depth, gamma, colsample_bytree):\n",
    "    params = {'eval_metric': 'rmse',\n",
    "              'max_depth': int(max_depth),\n",
    "              'subsample': 0.8,\n",
    "              'eta': 0.1,\n",
    "              'gamma': gamma,\n",
    "              'colsample_bytree': colsample_bytree}\n",
    "    \n",
    "    cv_result = xgb.cv(params, dtrain, num_boost_round=250, nfold=3)    \n",
    "    return -1.0 * cv_result['test-rmse-mean'].iloc[-1]"
   ]
  },
  {
   "cell_type": "code",
   "execution_count": 71,
   "id": "9a45df8a",
   "metadata": {},
   "outputs": [
    {
     "name": "stdout",
     "output_type": "stream",
     "text": [
      "|   iter    |  target   | colsam... |   gamma   | max_depth |\n",
      "-------------------------------------------------------------\n",
      "| \u001b[0m 1       \u001b[0m | \u001b[0m-0.2613  \u001b[0m | \u001b[0m 0.304   \u001b[0m | \u001b[0m 0.2078  \u001b[0m | \u001b[0m 3.011   \u001b[0m |\n",
      "| \u001b[95m 2       \u001b[0m | \u001b[95m-0.2141  \u001b[0m | \u001b[95m 0.3313  \u001b[0m | \u001b[95m 0.2015  \u001b[0m | \u001b[95m 6.733   \u001b[0m |\n",
      "| \u001b[0m 3       \u001b[0m | \u001b[0m-0.2169  \u001b[0m | \u001b[0m 0.3939  \u001b[0m | \u001b[0m 0.3592  \u001b[0m | \u001b[0m 4.758   \u001b[0m |\n",
      "| \u001b[0m 4       \u001b[0m | \u001b[0m-0.2305  \u001b[0m | \u001b[0m 0.5461  \u001b[0m | \u001b[0m 0.8497  \u001b[0m | \u001b[0m 3.618   \u001b[0m |\n",
      "| \u001b[95m 5       \u001b[0m | \u001b[95m-0.2126  \u001b[0m | \u001b[95m 0.3736  \u001b[0m | \u001b[95m 0.1556  \u001b[0m | \u001b[95m 6.89    \u001b[0m |\n",
      "| \u001b[95m 6       \u001b[0m | \u001b[95m-0.2036  \u001b[0m | \u001b[95m 0.7672  \u001b[0m | \u001b[95m 0.28    \u001b[0m | \u001b[95m 4.547   \u001b[0m |\n",
      "| \u001b[0m 7       \u001b[0m | \u001b[0m-0.2274  \u001b[0m | \u001b[0m 0.5559  \u001b[0m | \u001b[0m 0.5653  \u001b[0m | \u001b[0m 3.88    \u001b[0m |\n",
      "| \u001b[0m 8       \u001b[0m | \u001b[0m-0.2283  \u001b[0m | \u001b[0m 0.6764  \u001b[0m | \u001b[0m 0.9036  \u001b[0m | \u001b[0m 3.164   \u001b[0m |\n",
      "| \u001b[0m 9       \u001b[0m | \u001b[0m-0.2042  \u001b[0m | \u001b[0m 0.5602  \u001b[0m | \u001b[0m 0.2053  \u001b[0m | \u001b[0m 4.921   \u001b[0m |\n",
      "| \u001b[95m 10      \u001b[0m | \u001b[95m-0.2013  \u001b[0m | \u001b[95m 0.5404  \u001b[0m | \u001b[95m 0.1561  \u001b[0m | \u001b[95m 5.638   \u001b[0m |\n",
      "| \u001b[95m 11      \u001b[0m | \u001b[95m-0.2004  \u001b[0m | \u001b[95m 0.9     \u001b[0m | \u001b[95m 0.0     \u001b[0m | \u001b[95m 5.128   \u001b[0m |\n",
      "| \u001b[0m 12      \u001b[0m | \u001b[0m-0.2025  \u001b[0m | \u001b[0m 0.9     \u001b[0m | \u001b[0m 0.4463  \u001b[0m | \u001b[0m 5.196   \u001b[0m |\n",
      "| \u001b[0m 13      \u001b[0m | \u001b[0m-0.2013  \u001b[0m | \u001b[0m 0.9     \u001b[0m | \u001b[0m 0.0     \u001b[0m | \u001b[0m 4.715   \u001b[0m |\n",
      "| \u001b[0m 14      \u001b[0m | \u001b[0m-0.2018  \u001b[0m | \u001b[0m 0.6225  \u001b[0m | \u001b[0m 0.0     \u001b[0m | \u001b[0m 5.343   \u001b[0m |\n",
      "| \u001b[0m 15      \u001b[0m | \u001b[0m-0.2023  \u001b[0m | \u001b[0m 0.9     \u001b[0m | \u001b[0m 0.2193  \u001b[0m | \u001b[0m 4.883   \u001b[0m |\n",
      "| \u001b[0m 16      \u001b[0m | \u001b[0m-0.2019  \u001b[0m | \u001b[0m 0.9     \u001b[0m | \u001b[0m 0.3411  \u001b[0m | \u001b[0m 5.806   \u001b[0m |\n",
      "| \u001b[0m 17      \u001b[0m | \u001b[0m-0.2051  \u001b[0m | \u001b[0m 0.8154  \u001b[0m | \u001b[0m 1.0     \u001b[0m | \u001b[0m 5.863   \u001b[0m |\n",
      "| \u001b[0m 18      \u001b[0m | \u001b[0m-0.2037  \u001b[0m | \u001b[0m 0.9     \u001b[0m | \u001b[0m 1.0     \u001b[0m | \u001b[0m 7.0     \u001b[0m |\n",
      "| \u001b[0m 19      \u001b[0m | \u001b[0m-0.2286  \u001b[0m | \u001b[0m 0.3     \u001b[0m | \u001b[0m 1.0     \u001b[0m | \u001b[0m 7.0     \u001b[0m |\n",
      "| \u001b[0m 20      \u001b[0m | \u001b[0m-0.2006  \u001b[0m | \u001b[0m 0.9     \u001b[0m | \u001b[0m 0.0     \u001b[0m | \u001b[0m 7.0     \u001b[0m |\n",
      "| \u001b[0m 21      \u001b[0m | \u001b[0m-0.2006  \u001b[0m | \u001b[0m 0.9     \u001b[0m | \u001b[0m 0.0     \u001b[0m | \u001b[0m 6.41    \u001b[0m |\n",
      "| \u001b[0m 22      \u001b[0m | \u001b[0m-0.201   \u001b[0m | \u001b[0m 0.9     \u001b[0m | \u001b[0m 0.423   \u001b[0m | \u001b[0m 6.727   \u001b[0m |\n",
      "| \u001b[95m 23      \u001b[0m | \u001b[95m-0.2004  \u001b[0m | \u001b[95m 0.8742  \u001b[0m | \u001b[95m 0.00253 \u001b[0m | \u001b[95m 5.781   \u001b[0m |\n",
      "| \u001b[0m 24      \u001b[0m | \u001b[0m-0.2009  \u001b[0m | \u001b[0m 0.9     \u001b[0m | \u001b[0m 0.3846  \u001b[0m | \u001b[0m 7.0     \u001b[0m |\n",
      "| \u001b[0m 25      \u001b[0m | \u001b[0m-0.2018  \u001b[0m | \u001b[0m 0.6472  \u001b[0m | \u001b[0m 0.0     \u001b[0m | \u001b[0m 5.974   \u001b[0m |\n",
      "=============================================================\n"
     ]
    }
   ],
   "source": [
    "#run optimizer\n",
    "xgb_bo = BayesianOptimization(xgb_evaluate, {'max_depth': (3, 7), \n",
    "                                             'gamma': (0, 1),\n",
    "                                             'colsample_bytree': (0.3, 0.9)})\n",
    "#define iter points\n",
    "xgb_bo.maximize(init_points=10, n_iter=15, acq='ei')"
   ]
  },
  {
   "cell_type": "code",
   "execution_count": 72,
   "id": "488c2082",
   "metadata": {},
   "outputs": [],
   "source": [
    "#get the best parameters\n",
    "params = xgb_bo.max['params']\n",
    "params['max_depth'] = int(round(params['max_depth']))\n",
    "#train the data\n",
    "model = xgb.train(params, dtrain, num_boost_round=200)"
   ]
  },
  {
   "cell_type": "code",
   "execution_count": 73,
   "id": "c49a5bc2",
   "metadata": {},
   "outputs": [
    {
     "data": {
      "text/plain": [
       "array([73.3482  , 73.28254 , 73.44398 , 73.31493 , 73.17268 , 72.98591 ,\n",
       "       72.903275, 72.83607 , 72.698814, 72.67956 , 72.73125 , 72.85303 ,\n",
       "       72.74698 , 72.866295, 73.32702 , 72.97232 , 73.06097 , 73.01988 ,\n",
       "       72.91963 , 73.34246 , 73.51462 , 73.45663 , 73.58729 , 73.38227 ,\n",
       "       73.6092  , 74.01666 , 73.919685, 74.547485, 73.89876 , 73.70418 ],\n",
       "      dtype=float32)"
      ]
     },
     "execution_count": 73,
     "metadata": {},
     "output_type": "execute_result"
    }
   ],
   "source": [
    "#predict the test data \n",
    "predictions = model.predict(dtest)\n",
    "predictions"
   ]
  },
  {
   "cell_type": "markdown",
   "id": "826c3796",
   "metadata": {},
   "source": [
    "### Comparision of True values and XGBOOST pridection"
   ]
  },
  {
   "cell_type": "code",
   "execution_count": 74,
   "id": "83f19a16",
   "metadata": {},
   "outputs": [
    {
     "data": {
      "image/png": "[encoded data removed]",
      "text/plain": [
       "<Figure size 1008x360 with 1 Axes>"
      ]
     },
     "metadata": {},
     "output_type": "display_data"
    }
   ],
   "source": [
    "y_val = df2.rate[-30:]\n",
    "plt.figure(figsize=(14,5))\n",
    "sns.set_style('darkgrid')\n",
    "plt.plot(np.arange(len(y_val)), y_val, color='salmon');\n",
    "plt.plot(np.arange(len(y_val)), predictions, color='lightgreen');\n",
    "plt.legend(['True Value', 'Prediction']);"
   ]
  },
  {
   "cell_type": "markdown",
   "id": "ff3030ae",
   "metadata": {},
   "source": [
    "### MAE, MSE, RMSE"
   ]
  },
  {
   "cell_type": "code",
   "execution_count": 75,
   "id": "8bdad241",
   "metadata": {},
   "outputs": [],
   "source": [
    "#METRICS\n",
    "from sklearn.metrics import accuracy_score, confusion_matrix,classification_report, r2_score,mean_absolute_error,mean_squared_error"
   ]
  },
  {
   "cell_type": "code",
   "execution_count": 76,
   "id": "ec253511",
   "metadata": {},
   "outputs": [
    {
     "name": "stdout",
     "output_type": "stream",
     "text": [
      "Mean Absolute Error:    0.2485082\n",
      "Mean Squared Error:    0.08910192\n",
      "Root Mean Squared Error:    0.29849944\n"
     ]
    }
   ],
   "source": [
    "xgb_mae = mean_absolute_error(y_val, predictions)#\n",
    "xgb_mse = mean_squared_error(y_val, predictions)\n",
    "xgb_rmse = np.sqrt(mean_squared_error(y_val, predictions))\n",
    "\n",
    "print('Mean Absolute Error:   ', xgb_mae)\n",
    "print('Mean Squared Error:   ', xgb_mse)\n",
    "print('Root Mean Squared Error:   ', xgb_rmse)"
   ]
  },
  {
   "cell_type": "markdown",
   "id": "6cd331e2",
   "metadata": {},
   "source": [
    "### MEAN ABSOLUTE PERCENTAGE ERROR (MAPE)"
   ]
  },
  {
   "cell_type": "code",
   "execution_count": 77,
   "id": "50ed5ab1",
   "metadata": {},
   "outputs": [
    {
     "name": "stdout",
     "output_type": "stream",
     "text": [
      "Mean Absolute Percentage Error: 0.05 %\n"
     ]
    }
   ],
   "source": [
    "xgb_error_rate = abs(((y_val - predictions) / y_val).mean()) * 100\n",
    "print('Mean Absolute Percentage Error:', round(xgb_error_rate,2), '%')"
   ]
  },
  {
   "cell_type": "markdown",
   "id": "afec43ee",
   "metadata": {},
   "source": [
    "### R-Squared Score"
   ]
  },
  {
   "cell_type": "code",
   "execution_count": 78,
   "id": "0d2fd7c7",
   "metadata": {},
   "outputs": [
    {
     "name": "stdout",
     "output_type": "stream",
     "text": [
      "R2-SCORE:  0.7252314214484248\n"
     ]
    }
   ],
   "source": [
    "print('R2-SCORE: ', r2_score(y_val, predictions))"
   ]
  },
  {
   "cell_type": "markdown",
   "id": "e700aa69",
   "metadata": {},
   "source": [
    "## Monte Carlo Simulation"
   ]
  },
  {
   "cell_type": "code",
   "execution_count": 89,
   "id": "c9313859",
   "metadata": {},
   "outputs": [],
   "source": [
    "#function that can generate a monte carlo simulation    \n",
    "def monte_carlo_simulation(data,t_intervals ,iteration , figsize = (10,4), lw=1):\n",
    "    from scipy.stats import norm\n",
    "\n",
    "    #log returns of data\n",
    "    log_returns = np.log(1 + data.pct_change())\n",
    "\n",
    "    #Setting up the drift and random component\n",
    "    mean_  = log_returns.mean()\n",
    "    var = log_returns.var()\n",
    "    stdev = log_returns.std()\n",
    "    drift = mean_ - (0.5 *var)\n",
    "\n",
    "    daily_returns = np.exp(drift + stdev * norm.ppf(np.random.rand(t_intervals, iteration)))\n",
    "\n",
    "    S0 = data.iloc[-1]\n",
    "    #Empty daily returns\n",
    "    price_list = np.zeros_like(daily_returns)\n",
    "    price_list[0] = S0\n",
    "\n",
    "    #appliying montecarlo simulation\n",
    "    for i in range(1 , t_intervals):\n",
    "        price_list[i] = price_list[i-1] * daily_returns[i]\n",
    "    fig_title = str(t_intervals)+ ' DAYS SIMULATION WITH ' +str(iteration)+' DIFFERENT POSSIBILITIES'\n",
    "    #Show the result of 30 days simulation\n",
    "    plt.figure(figsize=figsize)\n",
    "    plt.plot(price_list, lw=lw)\n",
    "    plt.title(fig_title)\n",
    "    plt.xlabel('Days', fontsize=16)\n",
    "    plt.ylabel('Rate', fontsize=16)"
   ]
  },
  {
   "cell_type": "code",
   "execution_count": 90,
   "id": "0ab96b12",
   "metadata": {},
   "outputs": [
    {
     "data": {
      "image/png": "[encoded data removed]",
      "text/plain": [
       "<Figure size 936x432 with 1 Axes>"
      ]
     },
     "metadata": {},
     "output_type": "display_data"
    }
   ],
   "source": [
    "#fit the X_train and show the figure\n",
    "monte_carlo_simulation(y_train,30,20, figsize=(13,6))"
   ]
  },
  {
   "cell_type": "code",
   "execution_count": null,
   "id": "fbf60e55",
   "metadata": {},
   "outputs": [],
   "source": []
  }
 ],
 "metadata": {
  "hide_input": false,
  "kernelspec": {
   "display_name": "Python 3",
   "language": "python",
   "name": "python3"
  },
  "language_info": {
   "codemirror_mode": {
    "name": "ipython",
    "version": 3
   },
   "file_extension": ".py",
   "mimetype": "text/x-python",
   "name": "python",
   "nbconvert_exporter": "python",
   "pygments_lexer": "ipython3",
   "version": "3.8.11"
  },
  "toc": {
   "base_numbering": 1,
   "nav_menu": {},
   "number_sections": true,
   "sideBar": true,
   "skip_h1_title": true,
   "title_cell": "Table of Contents",
   "title_sidebar": "Contents",
   "toc_cell": false,
   "toc_position": {
    "height": "calc(100% - 180px)",
    "left": "10px",
    "top": "150px",
    "width": "371.2px"
   },
   "toc_section_display": true,
   "toc_window_display": true
  }
 },
 "nbformat": 4,
 "nbformat_minor": 5
}
